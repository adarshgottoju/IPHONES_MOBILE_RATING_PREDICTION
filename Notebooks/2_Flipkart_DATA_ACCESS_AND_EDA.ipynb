{
 "cells": [
  {
   "cell_type": "markdown",
   "id": "4a9275ac",
   "metadata": {},
   "source": [
    "# Data Access"
   ]
  },
  {
   "cell_type": "markdown",
   "id": "67953c11",
   "metadata": {},
   "source": [
    "#  Import The Data"
   ]
  },
  {
   "cell_type": "markdown",
   "id": "87299fcb",
   "metadata": {},
   "source": [
    "* We Have Stored Our Data In MySQL DataBase.\n",
    "* Connecting DataBase To NoteBook And Doing Other Part"
   ]
  },
  {
   "cell_type": "code",
   "execution_count": 1,
   "id": "f9280497",
   "metadata": {},
   "outputs": [],
   "source": [
    "import mysql.connector\n",
    "import os\n",
    "import pymysql\n",
    "import pandas as pd"
   ]
  },
  {
   "cell_type": "code",
   "execution_count": 2,
   "id": "cabd6e9a",
   "metadata": {},
   "outputs": [],
   "source": [
    "db_name = \"webscraping\"             #database name\n",
    "db_host = \"localhost\"               #Host\n",
    "db_username = \"root\"                #Username\n",
    "db_password = \"rajesh@1929\"         #Password"
   ]
  },
  {
   "cell_type": "code",
   "execution_count": 3,
   "id": "05f6ff3e",
   "metadata": {},
   "outputs": [],
   "source": [
    "#exception Handling\n",
    "try:\n",
    "    conn = pymysql.connect(host = db_host,\n",
    "                         port = int(3306),\n",
    "                         user = 'root',\n",
    "                         password = db_password,\n",
    "                         db = db_name)\n",
    "except e:\n",
    "    print(e)"
   ]
  },
  {
   "cell_type": "code",
   "execution_count": 4,
   "id": "0a84845c",
   "metadata": {},
   "outputs": [
    {
     "name": "stdout",
     "output_type": "stream",
     "text": [
      "Sucessfully Connected\n"
     ]
    }
   ],
   "source": [
    "if conn:\n",
    "    print(\"Sucessfully Connected\")\n",
    "else:\n",
    "    print(\"Error\")"
   ]
  },
  {
   "cell_type": "markdown",
   "id": "d58aef7c",
   "metadata": {},
   "source": [
    "* As We Seen Above SQL is Connected Sucessfully"
   ]
  },
  {
   "cell_type": "markdown",
   "id": "dda070c1",
   "metadata": {},
   "source": [
    "# DATA"
   ]
  },
  {
   "cell_type": "markdown",
   "id": "d5ed2a4d",
   "metadata": {},
   "source": [
    "* Reading The Data"
   ]
  },
  {
   "cell_type": "code",
   "execution_count": 5,
   "id": "16e695ea",
   "metadata": {},
   "outputs": [],
   "source": [
    "import warnings\n",
    "warnings.simplefilter(\"ignore\", UserWarning)"
   ]
  },
  {
   "cell_type": "code",
   "execution_count": 6,
   "id": "fb15007c",
   "metadata": {},
   "outputs": [],
   "source": [
    "df = pd.read_sql_query('SELECT * FROM mobiles_data',conn)"
   ]
  },
  {
   "cell_type": "code",
   "execution_count": 7,
   "id": "56ce43a7",
   "metadata": {},
   "outputs": [
    {
     "data": {
      "text/html": [
       "<div>\n",
       "<style scoped>\n",
       "    .dataframe tbody tr th:only-of-type {\n",
       "        vertical-align: middle;\n",
       "    }\n",
       "\n",
       "    .dataframe tbody tr th {\n",
       "        vertical-align: top;\n",
       "    }\n",
       "\n",
       "    .dataframe thead th {\n",
       "        text-align: right;\n",
       "    }\n",
       "</style>\n",
       "<table border=\"1\" class=\"dataframe\">\n",
       "  <thead>\n",
       "    <tr style=\"text-align: right;\">\n",
       "      <th></th>\n",
       "      <th>ProductName</th>\n",
       "      <th>Stars</th>\n",
       "      <th>Ratings</th>\n",
       "      <th>Reviews</th>\n",
       "      <th>Price</th>\n",
       "      <th>ROM</th>\n",
       "      <th>Display</th>\n",
       "      <th>Camera</th>\n",
       "      <th>Processor</th>\n",
       "      <th>MyUnknownColumn</th>\n",
       "    </tr>\n",
       "  </thead>\n",
       "  <tbody>\n",
       "    <tr>\n",
       "      <th>0</th>\n",
       "      <td>APPLE iPhone 11 (White</td>\n",
       "      <td>4.6</td>\n",
       "      <td>95977</td>\n",
       "      <td>7038</td>\n",
       "      <td>43900</td>\n",
       "      <td>64 GB ROM</td>\n",
       "      <td>15.49 cm (6.1 inch) Liquid Retina HD Display</td>\n",
       "      <td>12MP + 12MP | 12MP Front Camera</td>\n",
       "      <td>A13 Bionic Chip Processor</td>\n",
       "      <td></td>\n",
       "    </tr>\n",
       "    <tr>\n",
       "      <th>1</th>\n",
       "      <td>APPLE iPhone 11 (White</td>\n",
       "      <td>4.6</td>\n",
       "      <td>95977</td>\n",
       "      <td>7038</td>\n",
       "      <td>48900</td>\n",
       "      <td>128 GB ROM</td>\n",
       "      <td>15.49 cm (6.1 inch) Liquid Retina HD Display</td>\n",
       "      <td>12MP + 12MP | 12MP Front Camera</td>\n",
       "      <td>A13 Bionic Chip Processor</td>\n",
       "      <td></td>\n",
       "    </tr>\n",
       "    <tr>\n",
       "      <th>2</th>\n",
       "      <td>APPLE iPhone 11 (Black</td>\n",
       "      <td>4.6</td>\n",
       "      <td>95977</td>\n",
       "      <td>7038</td>\n",
       "      <td>48900</td>\n",
       "      <td>128 GB ROM</td>\n",
       "      <td>15.49 cm (6.1 inch) Liquid Retina HD Display</td>\n",
       "      <td>12MP + 12MP | 12MP Front Camera</td>\n",
       "      <td>A13 Bionic Chip Processor</td>\n",
       "      <td></td>\n",
       "    </tr>\n",
       "    <tr>\n",
       "      <th>3</th>\n",
       "      <td>APPLE iPhone 11 (Green</td>\n",
       "      <td>4.6</td>\n",
       "      <td>95977</td>\n",
       "      <td>7038</td>\n",
       "      <td>48900</td>\n",
       "      <td>128 GB ROM</td>\n",
       "      <td>15.49 cm (6.1 inch) Liquid Retina HD Display</td>\n",
       "      <td>12MP + 12MP | 12MP Front Camera</td>\n",
       "      <td>A13 Bionic Chip Processor</td>\n",
       "      <td></td>\n",
       "    </tr>\n",
       "    <tr>\n",
       "      <th>4</th>\n",
       "      <td>APPLE iPhone 11 (Black</td>\n",
       "      <td>4.6</td>\n",
       "      <td>95977</td>\n",
       "      <td>7038</td>\n",
       "      <td>43900</td>\n",
       "      <td>64 GB ROM</td>\n",
       "      <td>15.49 cm (6.1 inch) Liquid Retina HD Display</td>\n",
       "      <td>12MP + 12MP | 12MP Front Camera</td>\n",
       "      <td>A13 Bionic Chip Processor</td>\n",
       "      <td></td>\n",
       "    </tr>\n",
       "  </tbody>\n",
       "</table>\n",
       "</div>"
      ],
      "text/plain": [
       "              ProductName  Stars  Ratings  Reviews  Price         ROM  \\\n",
       "0  APPLE iPhone 11 (White    4.6    95977     7038  43900   64 GB ROM   \n",
       "1  APPLE iPhone 11 (White    4.6    95977     7038  48900  128 GB ROM   \n",
       "2  APPLE iPhone 11 (Black    4.6    95977     7038  48900  128 GB ROM   \n",
       "3  APPLE iPhone 11 (Green    4.6    95977     7038  48900  128 GB ROM   \n",
       "4  APPLE iPhone 11 (Black    4.6    95977     7038  43900   64 GB ROM   \n",
       "\n",
       "                                        Display  \\\n",
       "0  15.49 cm (6.1 inch) Liquid Retina HD Display   \n",
       "1  15.49 cm (6.1 inch) Liquid Retina HD Display   \n",
       "2  15.49 cm (6.1 inch) Liquid Retina HD Display   \n",
       "3  15.49 cm (6.1 inch) Liquid Retina HD Display   \n",
       "4  15.49 cm (6.1 inch) Liquid Retina HD Display   \n",
       "\n",
       "                            Camera                  Processor MyUnknownColumn  \n",
       "0  12MP + 12MP | 12MP Front Camera  A13 Bionic Chip Processor                  \n",
       "1  12MP + 12MP | 12MP Front Camera  A13 Bionic Chip Processor                  \n",
       "2  12MP + 12MP | 12MP Front Camera  A13 Bionic Chip Processor                  \n",
       "3  12MP + 12MP | 12MP Front Camera  A13 Bionic Chip Processor                  \n",
       "4  12MP + 12MP | 12MP Front Camera  A13 Bionic Chip Processor                  "
      ]
     },
     "execution_count": 7,
     "metadata": {},
     "output_type": "execute_result"
    }
   ],
   "source": [
    "df.head()"
   ]
  },
  {
   "cell_type": "markdown",
   "id": "dee5bedd",
   "metadata": {},
   "source": [
    "* Cleaning The MyUnknownColumn Data"
   ]
  },
  {
   "cell_type": "code",
   "execution_count": 8,
   "id": "37cab01d",
   "metadata": {},
   "outputs": [
    {
     "data": {
      "text/plain": [
       "4                                \n",
       "13                               \n",
       "38     6 Core Processor Processor\n",
       "35                               \n",
       "9      6 Core Processor Processor\n",
       "Name: MyUnknownColumn, dtype: object"
      ]
     },
     "execution_count": 8,
     "metadata": {},
     "output_type": "execute_result"
    }
   ],
   "source": [
    "df['MyUnknownColumn'].sample(5)"
   ]
  },
  {
   "cell_type": "code",
   "execution_count": 9,
   "id": "8b0d3eb5",
   "metadata": {},
   "outputs": [],
   "source": [
    "#combining Processor and myunknowncolumn into NEW column\n",
    "df['Processorr'] = df['Processor']+df['MyUnknownColumn']"
   ]
  },
  {
   "cell_type": "code",
   "execution_count": 10,
   "id": "682ac722",
   "metadata": {},
   "outputs": [
    {
     "data": {
      "text/plain": [
       "5                             A13 Bionic Chip Processor\n",
       "39                            A15 Bionic Chip Processor\n",
       "1                             A13 Bionic Chip Processor\n",
       "19                            A15 Bionic Chip Processor\n",
       "35    A13 Bionic Chip with 3rd Gen Neural Engine Pro...\n",
       "Name: Processorr, dtype: object"
      ]
     },
     "execution_count": 10,
     "metadata": {},
     "output_type": "execute_result"
    }
   ],
   "source": [
    "df['Processorr'].sample(5)"
   ]
  },
  {
   "cell_type": "code",
   "execution_count": 11,
   "id": "13933d3d",
   "metadata": {},
   "outputs": [],
   "source": [
    "#droping the column\n",
    "new = df.drop(['Processor','MyUnknownColumn'],axis=1)"
   ]
  },
  {
   "cell_type": "code",
   "execution_count": 12,
   "id": "0ccd5c79",
   "metadata": {},
   "outputs": [
    {
     "data": {
      "text/html": [
       "<div>\n",
       "<style scoped>\n",
       "    .dataframe tbody tr th:only-of-type {\n",
       "        vertical-align: middle;\n",
       "    }\n",
       "\n",
       "    .dataframe tbody tr th {\n",
       "        vertical-align: top;\n",
       "    }\n",
       "\n",
       "    .dataframe thead th {\n",
       "        text-align: right;\n",
       "    }\n",
       "</style>\n",
       "<table border=\"1\" class=\"dataframe\">\n",
       "  <thead>\n",
       "    <tr style=\"text-align: right;\">\n",
       "      <th></th>\n",
       "      <th>ProductName</th>\n",
       "      <th>Stars</th>\n",
       "      <th>Ratings</th>\n",
       "      <th>Reviews</th>\n",
       "      <th>Price</th>\n",
       "      <th>ROM</th>\n",
       "      <th>Display</th>\n",
       "      <th>Camera</th>\n",
       "      <th>Processorr</th>\n",
       "    </tr>\n",
       "  </thead>\n",
       "  <tbody>\n",
       "    <tr>\n",
       "      <th>0</th>\n",
       "      <td>APPLE iPhone 11 (White</td>\n",
       "      <td>4.6</td>\n",
       "      <td>95977</td>\n",
       "      <td>7038</td>\n",
       "      <td>43900</td>\n",
       "      <td>64 GB ROM</td>\n",
       "      <td>15.49 cm (6.1 inch) Liquid Retina HD Display</td>\n",
       "      <td>12MP + 12MP | 12MP Front Camera</td>\n",
       "      <td>A13 Bionic Chip Processor</td>\n",
       "    </tr>\n",
       "    <tr>\n",
       "      <th>1</th>\n",
       "      <td>APPLE iPhone 11 (White</td>\n",
       "      <td>4.6</td>\n",
       "      <td>95977</td>\n",
       "      <td>7038</td>\n",
       "      <td>48900</td>\n",
       "      <td>128 GB ROM</td>\n",
       "      <td>15.49 cm (6.1 inch) Liquid Retina HD Display</td>\n",
       "      <td>12MP + 12MP | 12MP Front Camera</td>\n",
       "      <td>A13 Bionic Chip Processor</td>\n",
       "    </tr>\n",
       "    <tr>\n",
       "      <th>2</th>\n",
       "      <td>APPLE iPhone 11 (Black</td>\n",
       "      <td>4.6</td>\n",
       "      <td>95977</td>\n",
       "      <td>7038</td>\n",
       "      <td>48900</td>\n",
       "      <td>128 GB ROM</td>\n",
       "      <td>15.49 cm (6.1 inch) Liquid Retina HD Display</td>\n",
       "      <td>12MP + 12MP | 12MP Front Camera</td>\n",
       "      <td>A13 Bionic Chip Processor</td>\n",
       "    </tr>\n",
       "    <tr>\n",
       "      <th>3</th>\n",
       "      <td>APPLE iPhone 11 (Green</td>\n",
       "      <td>4.6</td>\n",
       "      <td>95977</td>\n",
       "      <td>7038</td>\n",
       "      <td>48900</td>\n",
       "      <td>128 GB ROM</td>\n",
       "      <td>15.49 cm (6.1 inch) Liquid Retina HD Display</td>\n",
       "      <td>12MP + 12MP | 12MP Front Camera</td>\n",
       "      <td>A13 Bionic Chip Processor</td>\n",
       "    </tr>\n",
       "    <tr>\n",
       "      <th>4</th>\n",
       "      <td>APPLE iPhone 11 (Black</td>\n",
       "      <td>4.6</td>\n",
       "      <td>95977</td>\n",
       "      <td>7038</td>\n",
       "      <td>43900</td>\n",
       "      <td>64 GB ROM</td>\n",
       "      <td>15.49 cm (6.1 inch) Liquid Retina HD Display</td>\n",
       "      <td>12MP + 12MP | 12MP Front Camera</td>\n",
       "      <td>A13 Bionic Chip Processor</td>\n",
       "    </tr>\n",
       "  </tbody>\n",
       "</table>\n",
       "</div>"
      ],
      "text/plain": [
       "              ProductName  Stars  Ratings  Reviews  Price         ROM  \\\n",
       "0  APPLE iPhone 11 (White    4.6    95977     7038  43900   64 GB ROM   \n",
       "1  APPLE iPhone 11 (White    4.6    95977     7038  48900  128 GB ROM   \n",
       "2  APPLE iPhone 11 (Black    4.6    95977     7038  48900  128 GB ROM   \n",
       "3  APPLE iPhone 11 (Green    4.6    95977     7038  48900  128 GB ROM   \n",
       "4  APPLE iPhone 11 (Black    4.6    95977     7038  43900   64 GB ROM   \n",
       "\n",
       "                                        Display  \\\n",
       "0  15.49 cm (6.1 inch) Liquid Retina HD Display   \n",
       "1  15.49 cm (6.1 inch) Liquid Retina HD Display   \n",
       "2  15.49 cm (6.1 inch) Liquid Retina HD Display   \n",
       "3  15.49 cm (6.1 inch) Liquid Retina HD Display   \n",
       "4  15.49 cm (6.1 inch) Liquid Retina HD Display   \n",
       "\n",
       "                            Camera                 Processorr  \n",
       "0  12MP + 12MP | 12MP Front Camera  A13 Bionic Chip Processor  \n",
       "1  12MP + 12MP | 12MP Front Camera  A13 Bionic Chip Processor  \n",
       "2  12MP + 12MP | 12MP Front Camera  A13 Bionic Chip Processor  \n",
       "3  12MP + 12MP | 12MP Front Camera  A13 Bionic Chip Processor  \n",
       "4  12MP + 12MP | 12MP Front Camera  A13 Bionic Chip Processor  "
      ]
     },
     "execution_count": 12,
     "metadata": {},
     "output_type": "execute_result"
    }
   ],
   "source": [
    "new.head()"
   ]
  },
  {
   "cell_type": "markdown",
   "id": "a91282f1",
   "metadata": {},
   "source": [
    "# EDA"
   ]
  },
  {
   "cell_type": "code",
   "execution_count": 13,
   "id": "ea12e272",
   "metadata": {},
   "outputs": [
    {
     "data": {
      "text/html": [
       "<div>\n",
       "<style scoped>\n",
       "    .dataframe tbody tr th:only-of-type {\n",
       "        vertical-align: middle;\n",
       "    }\n",
       "\n",
       "    .dataframe tbody tr th {\n",
       "        vertical-align: top;\n",
       "    }\n",
       "\n",
       "    .dataframe thead th {\n",
       "        text-align: right;\n",
       "    }\n",
       "</style>\n",
       "<table border=\"1\" class=\"dataframe\">\n",
       "  <thead>\n",
       "    <tr style=\"text-align: right;\">\n",
       "      <th></th>\n",
       "      <th>ProductName</th>\n",
       "      <th>Stars</th>\n",
       "      <th>Ratings</th>\n",
       "      <th>Reviews</th>\n",
       "      <th>Price</th>\n",
       "      <th>ROM</th>\n",
       "      <th>Display</th>\n",
       "      <th>Camera</th>\n",
       "      <th>Processorr</th>\n",
       "    </tr>\n",
       "  </thead>\n",
       "  <tbody>\n",
       "    <tr>\n",
       "      <th>0</th>\n",
       "      <td>APPLE iPhone 11 (White</td>\n",
       "      <td>4.6</td>\n",
       "      <td>95977</td>\n",
       "      <td>7038</td>\n",
       "      <td>43900</td>\n",
       "      <td>64 GB ROM</td>\n",
       "      <td>15.49 cm (6.1 inch) Liquid Retina HD Display</td>\n",
       "      <td>12MP + 12MP | 12MP Front Camera</td>\n",
       "      <td>A13 Bionic Chip Processor</td>\n",
       "    </tr>\n",
       "    <tr>\n",
       "      <th>1</th>\n",
       "      <td>APPLE iPhone 11 (White</td>\n",
       "      <td>4.6</td>\n",
       "      <td>95977</td>\n",
       "      <td>7038</td>\n",
       "      <td>48900</td>\n",
       "      <td>128 GB ROM</td>\n",
       "      <td>15.49 cm (6.1 inch) Liquid Retina HD Display</td>\n",
       "      <td>12MP + 12MP | 12MP Front Camera</td>\n",
       "      <td>A13 Bionic Chip Processor</td>\n",
       "    </tr>\n",
       "    <tr>\n",
       "      <th>2</th>\n",
       "      <td>APPLE iPhone 11 (Black</td>\n",
       "      <td>4.6</td>\n",
       "      <td>95977</td>\n",
       "      <td>7038</td>\n",
       "      <td>48900</td>\n",
       "      <td>128 GB ROM</td>\n",
       "      <td>15.49 cm (6.1 inch) Liquid Retina HD Display</td>\n",
       "      <td>12MP + 12MP | 12MP Front Camera</td>\n",
       "      <td>A13 Bionic Chip Processor</td>\n",
       "    </tr>\n",
       "    <tr>\n",
       "      <th>3</th>\n",
       "      <td>APPLE iPhone 11 (Green</td>\n",
       "      <td>4.6</td>\n",
       "      <td>95977</td>\n",
       "      <td>7038</td>\n",
       "      <td>48900</td>\n",
       "      <td>128 GB ROM</td>\n",
       "      <td>15.49 cm (6.1 inch) Liquid Retina HD Display</td>\n",
       "      <td>12MP + 12MP | 12MP Front Camera</td>\n",
       "      <td>A13 Bionic Chip Processor</td>\n",
       "    </tr>\n",
       "    <tr>\n",
       "      <th>4</th>\n",
       "      <td>APPLE iPhone 11 (Black</td>\n",
       "      <td>4.6</td>\n",
       "      <td>95977</td>\n",
       "      <td>7038</td>\n",
       "      <td>43900</td>\n",
       "      <td>64 GB ROM</td>\n",
       "      <td>15.49 cm (6.1 inch) Liquid Retina HD Display</td>\n",
       "      <td>12MP + 12MP | 12MP Front Camera</td>\n",
       "      <td>A13 Bionic Chip Processor</td>\n",
       "    </tr>\n",
       "  </tbody>\n",
       "</table>\n",
       "</div>"
      ],
      "text/plain": [
       "              ProductName  Stars  Ratings  Reviews  Price         ROM  \\\n",
       "0  APPLE iPhone 11 (White    4.6    95977     7038  43900   64 GB ROM   \n",
       "1  APPLE iPhone 11 (White    4.6    95977     7038  48900  128 GB ROM   \n",
       "2  APPLE iPhone 11 (Black    4.6    95977     7038  48900  128 GB ROM   \n",
       "3  APPLE iPhone 11 (Green    4.6    95977     7038  48900  128 GB ROM   \n",
       "4  APPLE iPhone 11 (Black    4.6    95977     7038  43900   64 GB ROM   \n",
       "\n",
       "                                        Display  \\\n",
       "0  15.49 cm (6.1 inch) Liquid Retina HD Display   \n",
       "1  15.49 cm (6.1 inch) Liquid Retina HD Display   \n",
       "2  15.49 cm (6.1 inch) Liquid Retina HD Display   \n",
       "3  15.49 cm (6.1 inch) Liquid Retina HD Display   \n",
       "4  15.49 cm (6.1 inch) Liquid Retina HD Display   \n",
       "\n",
       "                            Camera                 Processorr  \n",
       "0  12MP + 12MP | 12MP Front Camera  A13 Bionic Chip Processor  \n",
       "1  12MP + 12MP | 12MP Front Camera  A13 Bionic Chip Processor  \n",
       "2  12MP + 12MP | 12MP Front Camera  A13 Bionic Chip Processor  \n",
       "3  12MP + 12MP | 12MP Front Camera  A13 Bionic Chip Processor  \n",
       "4  12MP + 12MP | 12MP Front Camera  A13 Bionic Chip Processor  "
      ]
     },
     "execution_count": 13,
     "metadata": {},
     "output_type": "execute_result"
    }
   ],
   "source": [
    "new.head()"
   ]
  },
  {
   "cell_type": "code",
   "execution_count": 14,
   "id": "69affe07",
   "metadata": {},
   "outputs": [
    {
     "data": {
      "text/plain": [
       "(48, 9)"
      ]
     },
     "execution_count": 14,
     "metadata": {},
     "output_type": "execute_result"
    }
   ],
   "source": [
    "new.shape"
   ]
  },
  {
   "cell_type": "markdown",
   "id": "fe086737",
   "metadata": {},
   "source": [
    "* Hence These Is A SMall Data, There Are 48Rows & 9 Columns"
   ]
  },
  {
   "cell_type": "code",
   "execution_count": 15,
   "id": "f88957f9",
   "metadata": {},
   "outputs": [
    {
     "data": {
      "text/plain": [
       "<AxesSubplot:>"
      ]
     },
     "execution_count": 15,
     "metadata": {},
     "output_type": "execute_result"
    },
    {
     "data": {
      "image/png": "[encoded data removed]",
      "text/plain": [
       "<Figure size 1800x720 with 2 Axes>"
      ]
     },
     "metadata": {
      "needs_background": "light"
     },
     "output_type": "display_data"
    }
   ],
   "source": [
    "#checking the null values\n",
    "import missingno as msno\n",
    "msno.matrix(new, color=(0, 0, 0))"
   ]
  },
  {
   "cell_type": "markdown",
   "id": "938619c6",
   "metadata": {},
   "source": [
    "* There Are No NULL Values"
   ]
  },
  {
   "cell_type": "markdown",
   "id": "050d0b41",
   "metadata": {},
   "source": [
    "# Visuvalization"
   ]
  },
  {
   "cell_type": "code",
   "execution_count": 16,
   "id": "1a493150",
   "metadata": {},
   "outputs": [],
   "source": [
    "import seaborn as sns\n"
   ]
  },
  {
   "cell_type": "code",
   "execution_count": 17,
   "id": "8f912c01",
   "metadata": {},
   "outputs": [
    {
     "name": "stderr",
     "output_type": "stream",
     "text": [
      "C:\\Users\\rajesh\\anaconda3\\lib\\site-packages\\seaborn\\distributions.py:2619: FutureWarning: `distplot` is a deprecated function and will be removed in a future version. Please adapt your code to use either `displot` (a figure-level function with similar flexibility) or `histplot` (an axes-level function for histograms).\n",
      "  warnings.warn(msg, FutureWarning)\n"
     ]
    },
    {
     "data": {
      "text/plain": [
       "<AxesSubplot:xlabel='Price', ylabel='Density'>"
      ]
     },
     "execution_count": 17,
     "metadata": {},
     "output_type": "execute_result"
    },
    {
     "data": {
      "image/png": "[encoded data removed]",
      "text/plain": [
       "<Figure size 432x288 with 1 Axes>"
      ]
     },
     "metadata": {
      "needs_background": "light"
     },
     "output_type": "display_data"
    }
   ],
   "source": [
    "sns.distplot(new['Price'])"
   ]
  },
  {
   "cell_type": "code",
   "execution_count": 18,
   "id": "8a0dc510",
   "metadata": {},
   "outputs": [
    {
     "data": {
      "text/plain": [
       "<AxesSubplot:>"
      ]
     },
     "execution_count": 18,
     "metadata": {},
     "output_type": "execute_result"
    },
    {
     "data": {
      "image/png": "[encoded data removed]",
      "text/plain": [
       "<Figure size 720x360 with 1 Axes>"
      ]
     },
     "metadata": {
      "needs_background": "light"
     },
     "output_type": "display_data"
    }
   ],
   "source": [
    "new['ProductName'].value_counts().plot(kind='bar',figsize= (10,5))"
   ]
  },
  {
   "cell_type": "code",
   "execution_count": 19,
   "id": "99104127",
   "metadata": {},
   "outputs": [],
   "source": [
    "import matplotlib.pyplot as plt\n",
    "%matplotlib inline"
   ]
  },
  {
   "cell_type": "code",
   "execution_count": 20,
   "id": "9706eb9e",
   "metadata": {},
   "outputs": [
    {
     "data": {
      "image/png": "[encoded data removed]",
      "text/plain": [
       "<Figure size 1080x720 with 1 Axes>"
      ]
     },
     "metadata": {
      "needs_background": "light"
     },
     "output_type": "display_data"
    }
   ],
   "source": [
    "plt.figure(figsize=(15,10))\n",
    "sns.barplot(x=new['ProductName'],y=new['Price'])\n",
    "plt.xticks(rotation='vertical')\n",
    "plt.show()"
   ]
  },
  {
   "cell_type": "code",
   "execution_count": 21,
   "id": "270fe8ba",
   "metadata": {},
   "outputs": [
    {
     "data": {
      "text/plain": [
       "<AxesSubplot:>"
      ]
     },
     "execution_count": 21,
     "metadata": {},
     "output_type": "execute_result"
    },
    {
     "data": {
      "image/png": "[encoded data removed]",
      "text/plain": [
       "<Figure size 432x288 with 1 Axes>"
      ]
     },
     "metadata": {
      "needs_background": "light"
     },
     "output_type": "display_data"
    }
   ],
   "source": [
    "new['Stars'].value_counts().plot(kind='bar')"
   ]
  },
  {
   "cell_type": "code",
   "execution_count": 22,
   "id": "82c8ed7d",
   "metadata": {},
   "outputs": [
    {
     "data": {
      "image/png": "[encoded data removed]",
      "text/plain": [
       "<Figure size 432x288 with 1 Axes>"
      ]
     },
     "metadata": {
      "needs_background": "light"
     },
     "output_type": "display_data"
    }
   ],
   "source": [
    "sns.barplot(x=new['Stars'],y=new['Price'])\n",
    "plt.xticks(rotation='vertical')\n",
    "plt.show()"
   ]
  },
  {
   "cell_type": "code",
   "execution_count": 23,
   "id": "4e1e9fb5",
   "metadata": {},
   "outputs": [
    {
     "data": {
      "image/png": "[encoded data removed]",
      "text/plain": [
       "<Figure size 1080x576 with 1 Axes>"
      ]
     },
     "metadata": {
      "needs_background": "light"
     },
     "output_type": "display_data"
    }
   ],
   "source": [
    "plt.figure(figsize=(15,8))\n",
    "plt.bar(x=new['ProductName'],height = new['Ratings'])\n",
    "plt.title('Highest Rating Mobiles',fontsize=20)\n",
    "plt.xlabel('Mobile')\n",
    "plt.xticks(rotation = 90)\n",
    "plt.show()"
   ]
  },
  {
   "cell_type": "code",
   "execution_count": 24,
   "id": "f17a8189",
   "metadata": {},
   "outputs": [
    {
     "data": {
      "text/html": [
       "<div>\n",
       "<style scoped>\n",
       "    .dataframe tbody tr th:only-of-type {\n",
       "        vertical-align: middle;\n",
       "    }\n",
       "\n",
       "    .dataframe tbody tr th {\n",
       "        vertical-align: top;\n",
       "    }\n",
       "\n",
       "    .dataframe thead th {\n",
       "        text-align: right;\n",
       "    }\n",
       "</style>\n",
       "<table border=\"1\" class=\"dataframe\">\n",
       "  <thead>\n",
       "    <tr style=\"text-align: right;\">\n",
       "      <th></th>\n",
       "      <th>ProductName</th>\n",
       "      <th>Price</th>\n",
       "    </tr>\n",
       "  </thead>\n",
       "  <tbody>\n",
       "    <tr>\n",
       "      <th>0</th>\n",
       "      <td>APPLE iPhone 11 (White</td>\n",
       "      <td>43900</td>\n",
       "    </tr>\n",
       "    <tr>\n",
       "      <th>1</th>\n",
       "      <td>APPLE iPhone 11 (White</td>\n",
       "      <td>48900</td>\n",
       "    </tr>\n",
       "    <tr>\n",
       "      <th>2</th>\n",
       "      <td>APPLE iPhone 11 (Black</td>\n",
       "      <td>48900</td>\n",
       "    </tr>\n",
       "    <tr>\n",
       "      <th>3</th>\n",
       "      <td>APPLE iPhone 11 (Green</td>\n",
       "      <td>48900</td>\n",
       "    </tr>\n",
       "    <tr>\n",
       "      <th>4</th>\n",
       "      <td>APPLE iPhone 11 (Black</td>\n",
       "      <td>43900</td>\n",
       "    </tr>\n",
       "    <tr>\n",
       "      <th>5</th>\n",
       "      <td>APPLE iPhone 11 (Purple</td>\n",
       "      <td>48900</td>\n",
       "    </tr>\n",
       "    <tr>\n",
       "      <th>6</th>\n",
       "      <td>APPLE iPhone 14 Pro (Silver</td>\n",
       "      <td>139900</td>\n",
       "    </tr>\n",
       "    <tr>\n",
       "      <th>7</th>\n",
       "      <td>APPLE iPhone SE (Red</td>\n",
       "      <td>30499</td>\n",
       "    </tr>\n",
       "    <tr>\n",
       "      <th>8</th>\n",
       "      <td>APPLE iPhone 11 (Red</td>\n",
       "      <td>43900</td>\n",
       "    </tr>\n",
       "    <tr>\n",
       "      <th>9</th>\n",
       "      <td>APPLE iPhone 14 Pro (Space Black</td>\n",
       "      <td>139900</td>\n",
       "    </tr>\n",
       "  </tbody>\n",
       "</table>\n",
       "</div>"
      ],
      "text/plain": [
       "                        ProductName   Price\n",
       "0            APPLE iPhone 11 (White   43900\n",
       "1            APPLE iPhone 11 (White   48900\n",
       "2            APPLE iPhone 11 (Black   48900\n",
       "3            APPLE iPhone 11 (Green   48900\n",
       "4            APPLE iPhone 11 (Black   43900\n",
       "5           APPLE iPhone 11 (Purple   48900\n",
       "6       APPLE iPhone 14 Pro (Silver  139900\n",
       "7              APPLE iPhone SE (Red   30499\n",
       "8              APPLE iPhone 11 (Red   43900\n",
       "9  APPLE iPhone 14 Pro (Space Black  139900"
      ]
     },
     "execution_count": 24,
     "metadata": {},
     "output_type": "execute_result"
    }
   ],
   "source": [
    "#checking mobile price\n",
    "small = new[['ProductName','Price']]\n",
    "small.head(10)"
   ]
  },
  {
   "cell_type": "code",
   "execution_count": 25,
   "id": "8da682d6",
   "metadata": {},
   "outputs": [
    {
     "data": {
      "text/plain": [
       "<AxesSubplot:xlabel='Display', ylabel='Price'>"
      ]
     },
     "execution_count": 25,
     "metadata": {},
     "output_type": "execute_result"
    },
    {
     "data": {
      "image/png": "[encoded data removed]",
      "text/plain": [
       "<Figure size 432x288 with 1 Axes>"
      ]
     },
     "metadata": {
      "needs_background": "light"
     },
     "output_type": "display_data"
    }
   ],
   "source": [
    "sns.scatterplot(x=new['Display'],y=new['Price'])"
   ]
  },
  {
   "cell_type": "markdown",
   "id": "ddd8874c",
   "metadata": {},
   "source": [
    "# Skewness"
   ]
  },
  {
   "cell_type": "code",
   "execution_count": 26,
   "id": "34bcbd9d",
   "metadata": {},
   "outputs": [
    {
     "name": "stderr",
     "output_type": "stream",
     "text": [
      "C:\\Users\\rajesh\\anaconda3\\lib\\site-packages\\seaborn\\distributions.py:2619: FutureWarning: `distplot` is a deprecated function and will be removed in a future version. Please adapt your code to use either `displot` (a figure-level function with similar flexibility) or `histplot` (an axes-level function for histograms).\n",
      "  warnings.warn(msg, FutureWarning)\n"
     ]
    },
    {
     "data": {
      "image/png": "[encoded data removed]",
      "text/plain": [
       "<Figure size 432x288 with 1 Axes>"
      ]
     },
     "metadata": {
      "needs_background": "light"
     },
     "output_type": "display_data"
    },
    {
     "name": "stderr",
     "output_type": "stream",
     "text": [
      "C:\\Users\\rajesh\\anaconda3\\lib\\site-packages\\seaborn\\distributions.py:2619: FutureWarning: `distplot` is a deprecated function and will be removed in a future version. Please adapt your code to use either `displot` (a figure-level function with similar flexibility) or `histplot` (an axes-level function for histograms).\n",
      "  warnings.warn(msg, FutureWarning)\n"
     ]
    },
    {
     "data": {
      "image/png": "[encoded data removed]",
      "text/plain": [
       "<Figure size 432x288 with 1 Axes>"
      ]
     },
     "metadata": {
      "needs_background": "light"
     },
     "output_type": "display_data"
    },
    {
     "name": "stderr",
     "output_type": "stream",
     "text": [
      "C:\\Users\\rajesh\\anaconda3\\lib\\site-packages\\seaborn\\distributions.py:2619: FutureWarning: `distplot` is a deprecated function and will be removed in a future version. Please adapt your code to use either `displot` (a figure-level function with similar flexibility) or `histplot` (an axes-level function for histograms).\n",
      "  warnings.warn(msg, FutureWarning)\n"
     ]
    },
    {
     "data": {
      "image/png": "[encoded data removed]",
      "text/plain": [
       "<Figure size 432x288 with 1 Axes>"
      ]
     },
     "metadata": {
      "needs_background": "light"
     },
     "output_type": "display_data"
    },
    {
     "name": "stderr",
     "output_type": "stream",
     "text": [
      "C:\\Users\\rajesh\\anaconda3\\lib\\site-packages\\seaborn\\distributions.py:2619: FutureWarning: `distplot` is a deprecated function and will be removed in a future version. Please adapt your code to use either `displot` (a figure-level function with similar flexibility) or `histplot` (an axes-level function for histograms).\n",
      "  warnings.warn(msg, FutureWarning)\n"
     ]
    },
    {
     "data": {
      "image/png": "[encoded data removed]",
      "text/plain": [
       "<Figure size 432x288 with 1 Axes>"
      ]
     },
     "metadata": {
      "needs_background": "light"
     },
     "output_type": "display_data"
    },
    {
     "name": "stderr",
     "output_type": "stream",
     "text": [
      "C:\\Users\\rajesh\\anaconda3\\lib\\site-packages\\seaborn\\distributions.py:2619: FutureWarning: `distplot` is a deprecated function and will be removed in a future version. Please adapt your code to use either `displot` (a figure-level function with similar flexibility) or `histplot` (an axes-level function for histograms).\n",
      "  warnings.warn(msg, FutureWarning)\n"
     ]
    },
    {
     "ename": "ValueError",
     "evalue": "could not convert string to float: '64 GB ROM'",
     "output_type": "error",
     "traceback": [
      "\u001b[1;31m---------------------------------------------------------------------------\u001b[0m",
      "\u001b[1;31mValueError\u001b[0m                                Traceback (most recent call last)",
      "Input \u001b[1;32mIn [26]\u001b[0m, in \u001b[0;36m<cell line: 5>\u001b[1;34m()\u001b[0m\n\u001b[0;32m      3\u001b[0m     plt\u001b[38;5;241m.\u001b[39mshow()\n\u001b[0;32m      5\u001b[0m \u001b[38;5;28;01mfor\u001b[39;00m i \u001b[38;5;129;01min\u001b[39;00m \u001b[38;5;28mlist\u001b[39m(new\u001b[38;5;241m.\u001b[39mcolumns)[\u001b[38;5;241m1\u001b[39m:]:\n\u001b[1;32m----> 6\u001b[0m     \u001b[43mdistplot\u001b[49m\u001b[43m(\u001b[49m\u001b[43mi\u001b[49m\u001b[43m)\u001b[49m\n",
      "Input \u001b[1;32mIn [26]\u001b[0m, in \u001b[0;36mdistplot\u001b[1;34m(col)\u001b[0m\n\u001b[0;32m      1\u001b[0m \u001b[38;5;28;01mdef\u001b[39;00m \u001b[38;5;21mdistplot\u001b[39m(col):\n\u001b[1;32m----> 2\u001b[0m     \u001b[43msns\u001b[49m\u001b[38;5;241;43m.\u001b[39;49m\u001b[43mdistplot\u001b[49m\u001b[43m(\u001b[49m\u001b[43mnew\u001b[49m\u001b[43m[\u001b[49m\u001b[43mcol\u001b[49m\u001b[43m]\u001b[49m\u001b[43m)\u001b[49m\n\u001b[0;32m      3\u001b[0m     plt\u001b[38;5;241m.\u001b[39mshow()\n",
      "File \u001b[1;32m~\\anaconda3\\lib\\site-packages\\seaborn\\distributions.py:2636\u001b[0m, in \u001b[0;36mdistplot\u001b[1;34m(a, bins, hist, kde, rug, fit, hist_kws, kde_kws, rug_kws, fit_kws, color, vertical, norm_hist, axlabel, label, ax, x)\u001b[0m\n\u001b[0;32m   2633\u001b[0m     a \u001b[38;5;241m=\u001b[39m x\n\u001b[0;32m   2635\u001b[0m \u001b[38;5;66;03m# Make a a 1-d float array\u001b[39;00m\n\u001b[1;32m-> 2636\u001b[0m a \u001b[38;5;241m=\u001b[39m \u001b[43mnp\u001b[49m\u001b[38;5;241;43m.\u001b[39;49m\u001b[43masarray\u001b[49m\u001b[43m(\u001b[49m\u001b[43ma\u001b[49m\u001b[43m,\u001b[49m\u001b[43m \u001b[49m\u001b[38;5;28;43mfloat\u001b[39;49m\u001b[43m)\u001b[49m\n\u001b[0;32m   2637\u001b[0m \u001b[38;5;28;01mif\u001b[39;00m a\u001b[38;5;241m.\u001b[39mndim \u001b[38;5;241m>\u001b[39m \u001b[38;5;241m1\u001b[39m:\n\u001b[0;32m   2638\u001b[0m     a \u001b[38;5;241m=\u001b[39m a\u001b[38;5;241m.\u001b[39msqueeze()\n",
      "File \u001b[1;32m~\\anaconda3\\lib\\site-packages\\pandas\\core\\series.py:872\u001b[0m, in \u001b[0;36mSeries.__array__\u001b[1;34m(self, dtype)\u001b[0m\n\u001b[0;32m    825\u001b[0m \u001b[38;5;28;01mdef\u001b[39;00m \u001b[38;5;21m__array__\u001b[39m(\u001b[38;5;28mself\u001b[39m, dtype: npt\u001b[38;5;241m.\u001b[39mDTypeLike \u001b[38;5;241m|\u001b[39m \u001b[38;5;28;01mNone\u001b[39;00m \u001b[38;5;241m=\u001b[39m \u001b[38;5;28;01mNone\u001b[39;00m) \u001b[38;5;241m-\u001b[39m\u001b[38;5;241m>\u001b[39m np\u001b[38;5;241m.\u001b[39mndarray:\n\u001b[0;32m    826\u001b[0m     \u001b[38;5;124;03m\"\"\"\u001b[39;00m\n\u001b[0;32m    827\u001b[0m \u001b[38;5;124;03m    Return the values as a NumPy array.\u001b[39;00m\n\u001b[0;32m    828\u001b[0m \n\u001b[1;32m   (...)\u001b[0m\n\u001b[0;32m    870\u001b[0m \u001b[38;5;124;03m          dtype='datetime64[ns]')\u001b[39;00m\n\u001b[0;32m    871\u001b[0m \u001b[38;5;124;03m    \"\"\"\u001b[39;00m\n\u001b[1;32m--> 872\u001b[0m     \u001b[38;5;28;01mreturn\u001b[39;00m \u001b[43mnp\u001b[49m\u001b[38;5;241;43m.\u001b[39;49m\u001b[43masarray\u001b[49m\u001b[43m(\u001b[49m\u001b[38;5;28;43mself\u001b[39;49m\u001b[38;5;241;43m.\u001b[39;49m\u001b[43m_values\u001b[49m\u001b[43m,\u001b[49m\u001b[43m \u001b[49m\u001b[43mdtype\u001b[49m\u001b[43m)\u001b[49m\n",
      "\u001b[1;31mValueError\u001b[0m: could not convert string to float: '64 GB ROM'"
     ]
    },
    {
     "data": {
      "image/png": "[encoded data removed]",
      "text/plain": [
       "<Figure size 432x288 with 1 Axes>"
      ]
     },
     "metadata": {
      "needs_background": "light"
     },
     "output_type": "display_data"
    }
   ],
   "source": [
    "def distplot(col):\n",
    "    sns.distplot(new[col])\n",
    "    plt.show()\n",
    "    \n",
    "for i in list(new.columns)[1:]:\n",
    "    distplot(i)"
   ]
  },
  {
   "cell_type": "code",
   "execution_count": 27,
   "id": "8de04dbf",
   "metadata": {},
   "outputs": [
    {
     "data": {
      "text/plain": [
       "<AxesSubplot:xlabel='ProductName', ylabel='Price'>"
      ]
     },
     "execution_count": 27,
     "metadata": {},
     "output_type": "execute_result"
    },
    {
     "data": {
      "image/png": "[encoded data removed]",
      "text/plain": [
       "<Figure size 720x432 with 1 Axes>"
      ]
     },
     "metadata": {
      "needs_background": "light"
     },
     "output_type": "display_data"
    }
   ],
   "source": [
    "plt.figure(figsize = (10,6))\n",
    "sns.barplot(x = 'ProductName',y = 'Price', data = new)"
   ]
  },
  {
   "cell_type": "code",
   "execution_count": 28,
   "id": "ad2a8115",
   "metadata": {},
   "outputs": [
    {
     "data": {
      "text/plain": [
       "<AxesSubplot:xlabel='ProductName', ylabel='Ratings'>"
      ]
     },
     "execution_count": 28,
     "metadata": {},
     "output_type": "execute_result"
    },
    {
     "data": {
      "image/png": "[encoded data removed]",
      "text/plain": [
       "<Figure size 720x432 with 1 Axes>"
      ]
     },
     "metadata": {
      "needs_background": "light"
     },
     "output_type": "display_data"
    }
   ],
   "source": [
    "plt.figure(figsize = (10,6))\n",
    "sns.barplot(x = 'ProductName',y = 'Ratings', data = new)"
   ]
  },
  {
   "cell_type": "markdown",
   "id": "bab486e9",
   "metadata": {},
   "source": [
    "# Distribution Of Plots\n"
   ]
  },
  {
   "cell_type": "code",
   "execution_count": 29,
   "id": "2b49710f",
   "metadata": {},
   "outputs": [
    {
     "name": "stderr",
     "output_type": "stream",
     "text": [
      "C:\\Users\\rajesh\\anaconda3\\lib\\site-packages\\seaborn\\_decorators.py:36: FutureWarning: Pass the following variable as a keyword arg: x. From version 0.12, the only valid positional argument will be `data`, and passing other arguments without an explicit keyword will result in an error or misinterpretation.\n",
      "  warnings.warn(\n"
     ]
    },
    {
     "data": {
      "image/png": "[encoded data removed]",
      "text/plain": [
       "<Figure size 432x288 with 1 Axes>"
      ]
     },
     "metadata": {
      "needs_background": "light"
     },
     "output_type": "display_data"
    },
    {
     "name": "stderr",
     "output_type": "stream",
     "text": [
      "C:\\Users\\rajesh\\anaconda3\\lib\\site-packages\\seaborn\\_decorators.py:36: FutureWarning: Pass the following variable as a keyword arg: x. From version 0.12, the only valid positional argument will be `data`, and passing other arguments without an explicit keyword will result in an error or misinterpretation.\n",
      "  warnings.warn(\n"
     ]
    },
    {
     "data": {
      "image/png": "[encoded data removed]",
      "text/plain": [
       "<Figure size 432x288 with 1 Axes>"
      ]
     },
     "metadata": {
      "needs_background": "light"
     },
     "output_type": "display_data"
    },
    {
     "name": "stderr",
     "output_type": "stream",
     "text": [
      "C:\\Users\\rajesh\\anaconda3\\lib\\site-packages\\seaborn\\_decorators.py:36: FutureWarning: Pass the following variable as a keyword arg: x. From version 0.12, the only valid positional argument will be `data`, and passing other arguments without an explicit keyword will result in an error or misinterpretation.\n",
      "  warnings.warn(\n"
     ]
    },
    {
     "data": {
      "image/png": "[encoded data removed]",
      "text/plain": [
       "<Figure size 432x288 with 1 Axes>"
      ]
     },
     "metadata": {
      "needs_background": "light"
     },
     "output_type": "display_data"
    }
   ],
   "source": [
    "# find the distribution of plots\n",
    "def boxplot(col):\n",
    "    sns.boxplot(new[col])\n",
    "    plt.show()\n",
    "    \n",
    "for i in list(new.select_dtypes(exclude=['object']).columns)[1:]:\n",
    "    boxplot(i)"
   ]
  },
  {
   "cell_type": "code",
   "execution_count": 30,
   "id": "5f3e74b9",
   "metadata": {},
   "outputs": [
    {
     "data": {
      "text/plain": [
       "<AxesSubplot:>"
      ]
     },
     "execution_count": 30,
     "metadata": {},
     "output_type": "execute_result"
    },
    {
     "data": {
      "image/png": "[encoded data removed]",
      "text/plain": [
       "<Figure size 1440x720 with 2 Axes>"
      ]
     },
     "metadata": {
      "needs_background": "light"
     },
     "output_type": "display_data"
    }
   ],
   "source": [
    "plt.figure(figsize=(20, 10))\n",
    "sns.heatmap(new.corr(),annot=True)"
   ]
  },
  {
   "cell_type": "code",
   "execution_count": 31,
   "id": "82bcfef1",
   "metadata": {},
   "outputs": [],
   "source": [
    "corr_matrix = new.corr()\n"
   ]
  },
  {
   "cell_type": "code",
   "execution_count": 32,
   "id": "bbe2b500",
   "metadata": {},
   "outputs": [
    {
     "data": {
      "text/plain": [
       "Ratings    1.000000\n",
       "Reviews    0.996262\n",
       "Stars      0.237663\n",
       "Price     -0.485087\n",
       "Name: Ratings, dtype: float64"
      ]
     },
     "execution_count": 32,
     "metadata": {},
     "output_type": "execute_result"
    }
   ],
   "source": [
    " corr_matrix[\"Ratings\"].sort_values(ascending=False)\n"
   ]
  },
  {
   "cell_type": "code",
   "execution_count": 33,
   "id": "d178eef5",
   "metadata": {},
   "outputs": [
    {
     "data": {
      "text/plain": [
       "<seaborn.axisgrid.PairGrid at 0x202a6639c70>"
      ]
     },
     "execution_count": 33,
     "metadata": {},
     "output_type": "execute_result"
    },
    {
     "data": {
      "image/png": "[encoded data removed]",
      "text/plain": [
       "<Figure size 720x720 with 20 Axes>"
      ]
     },
     "metadata": {
      "needs_background": "light"
     },
     "output_type": "display_data"
    }
   ],
   "source": [
    "sns.pairplot(new)"
   ]
  },
  {
   "cell_type": "code",
   "execution_count": 34,
   "id": "5733e8a5",
   "metadata": {},
   "outputs": [
    {
     "data": {
      "text/plain": [
       "<seaborn.axisgrid.PairGrid at 0x202a6c39a90>"
      ]
     },
     "execution_count": 34,
     "metadata": {},
     "output_type": "execute_result"
    },
    {
     "data": {
      "image/png": "[encoded data removed]",
      "text/plain": [
       "<Figure size 614.25x540 with 12 Axes>"
      ]
     },
     "metadata": {
      "needs_background": "light"
     },
     "output_type": "display_data"
    }
   ],
   "source": [
    "sns.pairplot(new,hue='Price')\n"
   ]
  },
  {
   "cell_type": "markdown",
   "id": "aaa54f65",
   "metadata": {},
   "source": [
    "# Feature Engineering"
   ]
  },
  {
   "cell_type": "markdown",
   "id": "d9a4e7de",
   "metadata": {},
   "source": [
    "# Display"
   ]
  },
  {
   "cell_type": "code",
   "execution_count": 35,
   "id": "79401c7e",
   "metadata": {},
   "outputs": [
    {
     "data": {
      "text/html": [
       "<div>\n",
       "<style scoped>\n",
       "    .dataframe tbody tr th:only-of-type {\n",
       "        vertical-align: middle;\n",
       "    }\n",
       "\n",
       "    .dataframe tbody tr th {\n",
       "        vertical-align: top;\n",
       "    }\n",
       "\n",
       "    .dataframe thead th {\n",
       "        text-align: right;\n",
       "    }\n",
       "</style>\n",
       "<table border=\"1\" class=\"dataframe\">\n",
       "  <thead>\n",
       "    <tr style=\"text-align: right;\">\n",
       "      <th></th>\n",
       "      <th>ProductName</th>\n",
       "      <th>Stars</th>\n",
       "      <th>Ratings</th>\n",
       "      <th>Reviews</th>\n",
       "      <th>Price</th>\n",
       "      <th>ROM</th>\n",
       "      <th>Display</th>\n",
       "      <th>Camera</th>\n",
       "      <th>Processorr</th>\n",
       "    </tr>\n",
       "  </thead>\n",
       "  <tbody>\n",
       "    <tr>\n",
       "      <th>0</th>\n",
       "      <td>APPLE iPhone 11 (White</td>\n",
       "      <td>4.6</td>\n",
       "      <td>95977</td>\n",
       "      <td>7038</td>\n",
       "      <td>43900</td>\n",
       "      <td>64 GB ROM</td>\n",
       "      <td>15.49 cm (6.1 inch) Liquid Retina HD Display</td>\n",
       "      <td>12MP + 12MP | 12MP Front Camera</td>\n",
       "      <td>A13 Bionic Chip Processor</td>\n",
       "    </tr>\n",
       "    <tr>\n",
       "      <th>1</th>\n",
       "      <td>APPLE iPhone 11 (White</td>\n",
       "      <td>4.6</td>\n",
       "      <td>95977</td>\n",
       "      <td>7038</td>\n",
       "      <td>48900</td>\n",
       "      <td>128 GB ROM</td>\n",
       "      <td>15.49 cm (6.1 inch) Liquid Retina HD Display</td>\n",
       "      <td>12MP + 12MP | 12MP Front Camera</td>\n",
       "      <td>A13 Bionic Chip Processor</td>\n",
       "    </tr>\n",
       "    <tr>\n",
       "      <th>2</th>\n",
       "      <td>APPLE iPhone 11 (Black</td>\n",
       "      <td>4.6</td>\n",
       "      <td>95977</td>\n",
       "      <td>7038</td>\n",
       "      <td>48900</td>\n",
       "      <td>128 GB ROM</td>\n",
       "      <td>15.49 cm (6.1 inch) Liquid Retina HD Display</td>\n",
       "      <td>12MP + 12MP | 12MP Front Camera</td>\n",
       "      <td>A13 Bionic Chip Processor</td>\n",
       "    </tr>\n",
       "    <tr>\n",
       "      <th>3</th>\n",
       "      <td>APPLE iPhone 11 (Green</td>\n",
       "      <td>4.6</td>\n",
       "      <td>95977</td>\n",
       "      <td>7038</td>\n",
       "      <td>48900</td>\n",
       "      <td>128 GB ROM</td>\n",
       "      <td>15.49 cm (6.1 inch) Liquid Retina HD Display</td>\n",
       "      <td>12MP + 12MP | 12MP Front Camera</td>\n",
       "      <td>A13 Bionic Chip Processor</td>\n",
       "    </tr>\n",
       "    <tr>\n",
       "      <th>4</th>\n",
       "      <td>APPLE iPhone 11 (Black</td>\n",
       "      <td>4.6</td>\n",
       "      <td>95977</td>\n",
       "      <td>7038</td>\n",
       "      <td>43900</td>\n",
       "      <td>64 GB ROM</td>\n",
       "      <td>15.49 cm (6.1 inch) Liquid Retina HD Display</td>\n",
       "      <td>12MP + 12MP | 12MP Front Camera</td>\n",
       "      <td>A13 Bionic Chip Processor</td>\n",
       "    </tr>\n",
       "  </tbody>\n",
       "</table>\n",
       "</div>"
      ],
      "text/plain": [
       "              ProductName  Stars  Ratings  Reviews  Price         ROM  \\\n",
       "0  APPLE iPhone 11 (White    4.6    95977     7038  43900   64 GB ROM   \n",
       "1  APPLE iPhone 11 (White    4.6    95977     7038  48900  128 GB ROM   \n",
       "2  APPLE iPhone 11 (Black    4.6    95977     7038  48900  128 GB ROM   \n",
       "3  APPLE iPhone 11 (Green    4.6    95977     7038  48900  128 GB ROM   \n",
       "4  APPLE iPhone 11 (Black    4.6    95977     7038  43900   64 GB ROM   \n",
       "\n",
       "                                        Display  \\\n",
       "0  15.49 cm (6.1 inch) Liquid Retina HD Display   \n",
       "1  15.49 cm (6.1 inch) Liquid Retina HD Display   \n",
       "2  15.49 cm (6.1 inch) Liquid Retina HD Display   \n",
       "3  15.49 cm (6.1 inch) Liquid Retina HD Display   \n",
       "4  15.49 cm (6.1 inch) Liquid Retina HD Display   \n",
       "\n",
       "                            Camera                 Processorr  \n",
       "0  12MP + 12MP | 12MP Front Camera  A13 Bionic Chip Processor  \n",
       "1  12MP + 12MP | 12MP Front Camera  A13 Bionic Chip Processor  \n",
       "2  12MP + 12MP | 12MP Front Camera  A13 Bionic Chip Processor  \n",
       "3  12MP + 12MP | 12MP Front Camera  A13 Bionic Chip Processor  \n",
       "4  12MP + 12MP | 12MP Front Camera  A13 Bionic Chip Processor  "
      ]
     },
     "execution_count": 35,
     "metadata": {},
     "output_type": "execute_result"
    }
   ],
   "source": [
    "new.head()"
   ]
  },
  {
   "cell_type": "code",
   "execution_count": 36,
   "id": "4a6ce42a",
   "metadata": {},
   "outputs": [],
   "source": [
    "# clean the Display column"
   ]
  },
  {
   "cell_type": "code",
   "execution_count": 37,
   "id": "65d13301",
   "metadata": {},
   "outputs": [],
   "source": [
    "new['Liquid_Retina_HD'] = new['Display'].apply(lambda x:1 if 'Liquid Retina HD Display' in x else 0)\n",
    "new['Super_Retina_XDR'] = new['Display'].apply(lambda x:1 if 'Super Retina XDR Display' in x else 0)"
   ]
  },
  {
   "cell_type": "code",
   "execution_count": 38,
   "id": "1c900396",
   "metadata": {},
   "outputs": [
    {
     "data": {
      "text/html": [
       "<div>\n",
       "<style scoped>\n",
       "    .dataframe tbody tr th:only-of-type {\n",
       "        vertical-align: middle;\n",
       "    }\n",
       "\n",
       "    .dataframe tbody tr th {\n",
       "        vertical-align: top;\n",
       "    }\n",
       "\n",
       "    .dataframe thead th {\n",
       "        text-align: right;\n",
       "    }\n",
       "</style>\n",
       "<table border=\"1\" class=\"dataframe\">\n",
       "  <thead>\n",
       "    <tr style=\"text-align: right;\">\n",
       "      <th></th>\n",
       "      <th>ProductName</th>\n",
       "      <th>Stars</th>\n",
       "      <th>Ratings</th>\n",
       "      <th>Reviews</th>\n",
       "      <th>Price</th>\n",
       "      <th>ROM</th>\n",
       "      <th>Display</th>\n",
       "      <th>Camera</th>\n",
       "      <th>Processorr</th>\n",
       "      <th>Liquid_Retina_HD</th>\n",
       "      <th>Super_Retina_XDR</th>\n",
       "    </tr>\n",
       "  </thead>\n",
       "  <tbody>\n",
       "    <tr>\n",
       "      <th>8</th>\n",
       "      <td>APPLE iPhone 11 (Red</td>\n",
       "      <td>4.6</td>\n",
       "      <td>95977</td>\n",
       "      <td>7038</td>\n",
       "      <td>43900</td>\n",
       "      <td>64 GB ROM</td>\n",
       "      <td>15.49 cm (6.1 inch) Liquid Retina HD Display</td>\n",
       "      <td>12MP + 12MP | 12MP Front Camera</td>\n",
       "      <td>A13 Bionic Chip Processor</td>\n",
       "      <td>1</td>\n",
       "      <td>0</td>\n",
       "    </tr>\n",
       "    <tr>\n",
       "      <th>11</th>\n",
       "      <td>APPLE iPhone SE (White</td>\n",
       "      <td>4.5</td>\n",
       "      <td>152</td>\n",
       "      <td>596</td>\n",
       "      <td>35499</td>\n",
       "      <td>128 GB ROM</td>\n",
       "      <td>11.94 cm (4.7 inch) Retina HD Display</td>\n",
       "      <td>12MP Rear Camera | 7MP Front Camera</td>\n",
       "      <td>A13 Bionic Chip with 3rd Gen Neural Engine Pro...</td>\n",
       "      <td>0</td>\n",
       "      <td>0</td>\n",
       "    </tr>\n",
       "    <tr>\n",
       "      <th>20</th>\n",
       "      <td>APPLE iPhone 14 (Purple</td>\n",
       "      <td>5.0</td>\n",
       "      <td>3</td>\n",
       "      <td>0</td>\n",
       "      <td>79900</td>\n",
       "      <td>128 GB ROM</td>\n",
       "      <td>15.49 cm (6.1 inch) Super Retina XDR Display</td>\n",
       "      <td>12MP + 12MP | 12MP Front Camera</td>\n",
       "      <td>A15 Bionic Chip 6 Core Processor Processor</td>\n",
       "      <td>0</td>\n",
       "      <td>1</td>\n",
       "    </tr>\n",
       "    <tr>\n",
       "      <th>10</th>\n",
       "      <td>APPLE iPhone 14 Pro (Silver</td>\n",
       "      <td>5.0</td>\n",
       "      <td>4</td>\n",
       "      <td>1</td>\n",
       "      <td>129900</td>\n",
       "      <td>128 GB ROM</td>\n",
       "      <td>15.49 cm (6.1 inch) Super Retina XDR Display</td>\n",
       "      <td>48MP + 12MP + 12MP + 12MP | 12MP Front Camera</td>\n",
       "      <td>A16 Bionic Chip 6 Core Processor Processor</td>\n",
       "      <td>0</td>\n",
       "      <td>1</td>\n",
       "    </tr>\n",
       "    <tr>\n",
       "      <th>45</th>\n",
       "      <td>APPLE iPhone 12 (Purple</td>\n",
       "      <td>4.6</td>\n",
       "      <td>181</td>\n",
       "      <td>662</td>\n",
       "      <td>59900</td>\n",
       "      <td>64 GB ROM</td>\n",
       "      <td>15.49 cm (6.1 inch) Super Retina XDR Display</td>\n",
       "      <td>12MP + 12MP | 12MP Front Camera</td>\n",
       "      <td>A14 Bionic Chip with Next Generation Neural En...</td>\n",
       "      <td>0</td>\n",
       "      <td>1</td>\n",
       "    </tr>\n",
       "  </tbody>\n",
       "</table>\n",
       "</div>"
      ],
      "text/plain": [
       "                    ProductName  Stars  Ratings  Reviews   Price         ROM  \\\n",
       "8          APPLE iPhone 11 (Red    4.6    95977     7038   43900   64 GB ROM   \n",
       "11       APPLE iPhone SE (White    4.5      152      596   35499  128 GB ROM   \n",
       "20      APPLE iPhone 14 (Purple    5.0        3        0   79900  128 GB ROM   \n",
       "10  APPLE iPhone 14 Pro (Silver    5.0        4        1  129900  128 GB ROM   \n",
       "45      APPLE iPhone 12 (Purple    4.6      181      662   59900   64 GB ROM   \n",
       "\n",
       "                                         Display  \\\n",
       "8   15.49 cm (6.1 inch) Liquid Retina HD Display   \n",
       "11         11.94 cm (4.7 inch) Retina HD Display   \n",
       "20  15.49 cm (6.1 inch) Super Retina XDR Display   \n",
       "10  15.49 cm (6.1 inch) Super Retina XDR Display   \n",
       "45  15.49 cm (6.1 inch) Super Retina XDR Display   \n",
       "\n",
       "                                           Camera  \\\n",
       "8                 12MP + 12MP | 12MP Front Camera   \n",
       "11            12MP Rear Camera | 7MP Front Camera   \n",
       "20                12MP + 12MP | 12MP Front Camera   \n",
       "10  48MP + 12MP + 12MP + 12MP | 12MP Front Camera   \n",
       "45                12MP + 12MP | 12MP Front Camera   \n",
       "\n",
       "                                           Processorr  Liquid_Retina_HD  \\\n",
       "8                           A13 Bionic Chip Processor                 1   \n",
       "11  A13 Bionic Chip with 3rd Gen Neural Engine Pro...                 0   \n",
       "20         A15 Bionic Chip 6 Core Processor Processor                 0   \n",
       "10         A16 Bionic Chip 6 Core Processor Processor                 0   \n",
       "45  A14 Bionic Chip with Next Generation Neural En...                 0   \n",
       "\n",
       "    Super_Retina_XDR  \n",
       "8                  0  \n",
       "11                 0  \n",
       "20                 1  \n",
       "10                 1  \n",
       "45                 1  "
      ]
     },
     "execution_count": 38,
     "metadata": {},
     "output_type": "execute_result"
    }
   ],
   "source": [
    "new.sample(5)"
   ]
  },
  {
   "cell_type": "code",
   "execution_count": 39,
   "id": "609a2784",
   "metadata": {},
   "outputs": [
    {
     "data": {
      "text/plain": [
       "15.49 cm (6.1 inch) Super Retina XDR Display    19\n",
       "15.49 cm (6.1 inch) Liquid Retina HD Display    12\n",
       "13.72 cm (5.4 inch) Super Retina XDR Display     7\n",
       "17.02 cm (6.7 inch) Super Retina XDR Display     6\n",
       "11.94 cm (4.7 inch) Retina HD Display            4\n",
       "Name: Display, dtype: int64"
      ]
     },
     "execution_count": 39,
     "metadata": {},
     "output_type": "execute_result"
    }
   ],
   "source": [
    "new['Display'].value_counts()"
   ]
  },
  {
   "cell_type": "code",
   "execution_count": 40,
   "id": "64179774",
   "metadata": {},
   "outputs": [],
   "source": [
    "final = new.drop('Display',axis=1)"
   ]
  },
  {
   "cell_type": "code",
   "execution_count": 41,
   "id": "204a7d93",
   "metadata": {},
   "outputs": [
    {
     "data": {
      "text/html": [
       "<div>\n",
       "<style scoped>\n",
       "    .dataframe tbody tr th:only-of-type {\n",
       "        vertical-align: middle;\n",
       "    }\n",
       "\n",
       "    .dataframe tbody tr th {\n",
       "        vertical-align: top;\n",
       "    }\n",
       "\n",
       "    .dataframe thead th {\n",
       "        text-align: right;\n",
       "    }\n",
       "</style>\n",
       "<table border=\"1\" class=\"dataframe\">\n",
       "  <thead>\n",
       "    <tr style=\"text-align: right;\">\n",
       "      <th></th>\n",
       "      <th>ProductName</th>\n",
       "      <th>Stars</th>\n",
       "      <th>Ratings</th>\n",
       "      <th>Reviews</th>\n",
       "      <th>Price</th>\n",
       "      <th>ROM</th>\n",
       "      <th>Camera</th>\n",
       "      <th>Processorr</th>\n",
       "      <th>Liquid_Retina_HD</th>\n",
       "      <th>Super_Retina_XDR</th>\n",
       "    </tr>\n",
       "  </thead>\n",
       "  <tbody>\n",
       "    <tr>\n",
       "      <th>32</th>\n",
       "      <td>APPLE iPhone 14 (Purple</td>\n",
       "      <td>5.0</td>\n",
       "      <td>3</td>\n",
       "      <td>0</td>\n",
       "      <td>89900</td>\n",
       "      <td>256 GB ROM</td>\n",
       "      <td>12MP + 12MP | 12MP Front Camera</td>\n",
       "      <td>A15 Bionic Chip 6 Core Processor Processor</td>\n",
       "      <td>0</td>\n",
       "      <td>1</td>\n",
       "    </tr>\n",
       "    <tr>\n",
       "      <th>43</th>\n",
       "      <td>APPLE iPhone 13 Mini (Starlight</td>\n",
       "      <td>4.5</td>\n",
       "      <td>2188</td>\n",
       "      <td>197</td>\n",
       "      <td>64900</td>\n",
       "      <td>128 GB ROM</td>\n",
       "      <td>12MP + 12MP | 12MP Front Camera</td>\n",
       "      <td>A15 Bionic Chip Processor</td>\n",
       "      <td>0</td>\n",
       "      <td>1</td>\n",
       "    </tr>\n",
       "    <tr>\n",
       "      <th>26</th>\n",
       "      <td>APPLE iPhone 12 (Purple</td>\n",
       "      <td>4.6</td>\n",
       "      <td>181</td>\n",
       "      <td>662</td>\n",
       "      <td>64900</td>\n",
       "      <td>128 GB ROM</td>\n",
       "      <td>12MP + 12MP | 12MP Front Camera</td>\n",
       "      <td>A14 Bionic Chip with Next Generation Neural En...</td>\n",
       "      <td>0</td>\n",
       "      <td>1</td>\n",
       "    </tr>\n",
       "    <tr>\n",
       "      <th>30</th>\n",
       "      <td>APPLE iPhone 12 (Green</td>\n",
       "      <td>4.6</td>\n",
       "      <td>181</td>\n",
       "      <td>662</td>\n",
       "      <td>64900</td>\n",
       "      <td>128 GB ROM</td>\n",
       "      <td>12MP + 12MP | 12MP Front Camera</td>\n",
       "      <td>A14 Bionic Chip with Next Generation Neural En...</td>\n",
       "      <td>0</td>\n",
       "      <td>1</td>\n",
       "    </tr>\n",
       "    <tr>\n",
       "      <th>4</th>\n",
       "      <td>APPLE iPhone 11 (Black</td>\n",
       "      <td>4.6</td>\n",
       "      <td>95977</td>\n",
       "      <td>7038</td>\n",
       "      <td>43900</td>\n",
       "      <td>64 GB ROM</td>\n",
       "      <td>12MP + 12MP | 12MP Front Camera</td>\n",
       "      <td>A13 Bionic Chip Processor</td>\n",
       "      <td>1</td>\n",
       "      <td>0</td>\n",
       "    </tr>\n",
       "  </tbody>\n",
       "</table>\n",
       "</div>"
      ],
      "text/plain": [
       "                        ProductName  Stars  Ratings  Reviews  Price  \\\n",
       "32          APPLE iPhone 14 (Purple    5.0        3        0  89900   \n",
       "43  APPLE iPhone 13 Mini (Starlight    4.5     2188      197  64900   \n",
       "26          APPLE iPhone 12 (Purple    4.6      181      662  64900   \n",
       "30           APPLE iPhone 12 (Green    4.6      181      662  64900   \n",
       "4            APPLE iPhone 11 (Black    4.6    95977     7038  43900   \n",
       "\n",
       "           ROM                           Camera  \\\n",
       "32  256 GB ROM  12MP + 12MP | 12MP Front Camera   \n",
       "43  128 GB ROM  12MP + 12MP | 12MP Front Camera   \n",
       "26  128 GB ROM  12MP + 12MP | 12MP Front Camera   \n",
       "30  128 GB ROM  12MP + 12MP | 12MP Front Camera   \n",
       "4    64 GB ROM  12MP + 12MP | 12MP Front Camera   \n",
       "\n",
       "                                           Processorr  Liquid_Retina_HD  \\\n",
       "32         A15 Bionic Chip 6 Core Processor Processor                 0   \n",
       "43                          A15 Bionic Chip Processor                 0   \n",
       "26  A14 Bionic Chip with Next Generation Neural En...                 0   \n",
       "30  A14 Bionic Chip with Next Generation Neural En...                 0   \n",
       "4                           A13 Bionic Chip Processor                 1   \n",
       "\n",
       "    Super_Retina_XDR  \n",
       "32                 1  \n",
       "43                 1  \n",
       "26                 1  \n",
       "30                 1  \n",
       "4                  0  "
      ]
     },
     "execution_count": 41,
     "metadata": {},
     "output_type": "execute_result"
    }
   ],
   "source": [
    "final.sample(5)"
   ]
  },
  {
   "cell_type": "markdown",
   "id": "781388e2",
   "metadata": {},
   "source": [
    "# ProductName"
   ]
  },
  {
   "cell_type": "code",
   "execution_count": 42,
   "id": "3735dd79",
   "metadata": {},
   "outputs": [],
   "source": [
    "final['ProductName'] = final['ProductName'].str.replace('$', '', regex=True).replace('\\,', '.', regex=True)\n"
   ]
  },
  {
   "cell_type": "code",
   "execution_count": 43,
   "id": "55b01e48",
   "metadata": {},
   "outputs": [
    {
     "name": "stderr",
     "output_type": "stream",
     "text": [
      "C:\\Users\\rajesh\\AppData\\Local\\Temp\\ipykernel_18340\\2242520711.py:1: FutureWarning: The default value of regex will change from True to False in a future version. In addition, single character regular expressions will *not* be treated as literal strings when regex=True.\n",
      "  final['ProductName'] = final['ProductName'].str.replace(\")\",'')\n"
     ]
    }
   ],
   "source": [
    "final['ProductName'] = final['ProductName'].str.replace(\")\",'')"
   ]
  },
  {
   "cell_type": "code",
   "execution_count": 44,
   "id": "71cd850d",
   "metadata": {},
   "outputs": [
    {
     "data": {
      "text/html": [
       "<div>\n",
       "<style scoped>\n",
       "    .dataframe tbody tr th:only-of-type {\n",
       "        vertical-align: middle;\n",
       "    }\n",
       "\n",
       "    .dataframe tbody tr th {\n",
       "        vertical-align: top;\n",
       "    }\n",
       "\n",
       "    .dataframe thead th {\n",
       "        text-align: right;\n",
       "    }\n",
       "</style>\n",
       "<table border=\"1\" class=\"dataframe\">\n",
       "  <thead>\n",
       "    <tr style=\"text-align: right;\">\n",
       "      <th></th>\n",
       "      <th>ProductName</th>\n",
       "      <th>Stars</th>\n",
       "      <th>Ratings</th>\n",
       "      <th>Reviews</th>\n",
       "      <th>Price</th>\n",
       "      <th>ROM</th>\n",
       "      <th>Camera</th>\n",
       "      <th>Processorr</th>\n",
       "      <th>Liquid_Retina_HD</th>\n",
       "      <th>Super_Retina_XDR</th>\n",
       "    </tr>\n",
       "  </thead>\n",
       "  <tbody>\n",
       "    <tr>\n",
       "      <th>30</th>\n",
       "      <td>APPLE iPhone 12 (Green</td>\n",
       "      <td>4.6</td>\n",
       "      <td>181</td>\n",
       "      <td>662</td>\n",
       "      <td>64900</td>\n",
       "      <td>128 GB ROM</td>\n",
       "      <td>12MP + 12MP | 12MP Front Camera</td>\n",
       "      <td>A14 Bionic Chip with Next Generation Neural En...</td>\n",
       "      <td>0</td>\n",
       "      <td>1</td>\n",
       "    </tr>\n",
       "    <tr>\n",
       "      <th>31</th>\n",
       "      <td>APPLE iPhone 13 Mini (Blue</td>\n",
       "      <td>4.5</td>\n",
       "      <td>2188</td>\n",
       "      <td>197</td>\n",
       "      <td>64900</td>\n",
       "      <td>128 GB ROM</td>\n",
       "      <td>12MP + 12MP | 12MP Front Camera</td>\n",
       "      <td>A15 Bionic Chip Processor</td>\n",
       "      <td>0</td>\n",
       "      <td>1</td>\n",
       "    </tr>\n",
       "    <tr>\n",
       "      <th>32</th>\n",
       "      <td>APPLE iPhone 14 (Purple</td>\n",
       "      <td>5.0</td>\n",
       "      <td>3</td>\n",
       "      <td>0</td>\n",
       "      <td>89900</td>\n",
       "      <td>256 GB ROM</td>\n",
       "      <td>12MP + 12MP | 12MP Front Camera</td>\n",
       "      <td>A15 Bionic Chip 6 Core Processor Processor</td>\n",
       "      <td>0</td>\n",
       "      <td>1</td>\n",
       "    </tr>\n",
       "    <tr>\n",
       "      <th>33</th>\n",
       "      <td>Apple iPhone 11 (Green</td>\n",
       "      <td>4.6</td>\n",
       "      <td>95955</td>\n",
       "      <td>7038</td>\n",
       "      <td>49900</td>\n",
       "      <td>64 GB ROM</td>\n",
       "      <td>12MP + 12MP | 12MP Front Camera</td>\n",
       "      <td>A13 Bionic Chip Processor</td>\n",
       "      <td>1</td>\n",
       "      <td>0</td>\n",
       "    </tr>\n",
       "    <tr>\n",
       "      <th>34</th>\n",
       "      <td>APPLE iPhone 14 ((PRODUCTRED</td>\n",
       "      <td>5.0</td>\n",
       "      <td>3</td>\n",
       "      <td>0</td>\n",
       "      <td>89900</td>\n",
       "      <td>256 GB ROM</td>\n",
       "      <td>12MP + 12MP | 12MP Front Camera</td>\n",
       "      <td>A15 Bionic Chip 6 Core Processor Processor</td>\n",
       "      <td>0</td>\n",
       "      <td>1</td>\n",
       "    </tr>\n",
       "    <tr>\n",
       "      <th>35</th>\n",
       "      <td>APPLE iPhone SE (Black</td>\n",
       "      <td>4.5</td>\n",
       "      <td>152</td>\n",
       "      <td>589</td>\n",
       "      <td>35499</td>\n",
       "      <td>128 GB ROM</td>\n",
       "      <td>12MP Rear Camera | 7MP Front Camera</td>\n",
       "      <td>A13 Bionic Chip with 3rd Gen Neural Engine Pro...</td>\n",
       "      <td>0</td>\n",
       "      <td>0</td>\n",
       "    </tr>\n",
       "    <tr>\n",
       "      <th>36</th>\n",
       "      <td>APPLE iPhone 11 (Yellow</td>\n",
       "      <td>4.6</td>\n",
       "      <td>95955</td>\n",
       "      <td>7038</td>\n",
       "      <td>48900</td>\n",
       "      <td>128 GB ROM</td>\n",
       "      <td>12MP + 12MP | 12MP Front Camera</td>\n",
       "      <td>A13 Bionic Chip Processor</td>\n",
       "      <td>1</td>\n",
       "      <td>0</td>\n",
       "    </tr>\n",
       "    <tr>\n",
       "      <th>37</th>\n",
       "      <td>APPLE iPhone 12 (White</td>\n",
       "      <td>4.6</td>\n",
       "      <td>181</td>\n",
       "      <td>662</td>\n",
       "      <td>64900</td>\n",
       "      <td>128 GB ROM</td>\n",
       "      <td>12MP + 12MP | 12MP Front Camera</td>\n",
       "      <td>A14 Bionic Chip with Next Generation Neural En...</td>\n",
       "      <td>0</td>\n",
       "      <td>1</td>\n",
       "    </tr>\n",
       "    <tr>\n",
       "      <th>38</th>\n",
       "      <td>APPLE iPhone 14 Pro Max (Space Black</td>\n",
       "      <td>0.0</td>\n",
       "      <td>0</td>\n",
       "      <td>0</td>\n",
       "      <td>149900</td>\n",
       "      <td>256 GB ROM</td>\n",
       "      <td>48MP + 12MP + 12MP + 12MP | 12MP Front Camera</td>\n",
       "      <td>A16 Bionic Chip 6 Core Processor Processor</td>\n",
       "      <td>0</td>\n",
       "      <td>1</td>\n",
       "    </tr>\n",
       "    <tr>\n",
       "      <th>39</th>\n",
       "      <td>APPLE iPhone 13 Mini ((PRODUCTRED</td>\n",
       "      <td>4.5</td>\n",
       "      <td>2188</td>\n",
       "      <td>197</td>\n",
       "      <td>64900</td>\n",
       "      <td>128 GB ROM</td>\n",
       "      <td>12MP + 12MP | 12MP Front Camera</td>\n",
       "      <td>A15 Bionic Chip Processor</td>\n",
       "      <td>0</td>\n",
       "      <td>1</td>\n",
       "    </tr>\n",
       "  </tbody>\n",
       "</table>\n",
       "</div>"
      ],
      "text/plain": [
       "                             ProductName  Stars  Ratings  Reviews   Price  \\\n",
       "30                APPLE iPhone 12 (Green    4.6      181      662   64900   \n",
       "31            APPLE iPhone 13 Mini (Blue    4.5     2188      197   64900   \n",
       "32               APPLE iPhone 14 (Purple    5.0        3        0   89900   \n",
       "33                Apple iPhone 11 (Green    4.6    95955     7038   49900   \n",
       "34          APPLE iPhone 14 ((PRODUCTRED    5.0        3        0   89900   \n",
       "35                APPLE iPhone SE (Black    4.5      152      589   35499   \n",
       "36               APPLE iPhone 11 (Yellow    4.6    95955     7038   48900   \n",
       "37                APPLE iPhone 12 (White    4.6      181      662   64900   \n",
       "38  APPLE iPhone 14 Pro Max (Space Black    0.0        0        0  149900   \n",
       "39     APPLE iPhone 13 Mini ((PRODUCTRED    4.5     2188      197   64900   \n",
       "\n",
       "           ROM                                         Camera  \\\n",
       "30  128 GB ROM                12MP + 12MP | 12MP Front Camera   \n",
       "31  128 GB ROM                12MP + 12MP | 12MP Front Camera   \n",
       "32  256 GB ROM                12MP + 12MP | 12MP Front Camera   \n",
       "33   64 GB ROM                12MP + 12MP | 12MP Front Camera   \n",
       "34  256 GB ROM                12MP + 12MP | 12MP Front Camera   \n",
       "35  128 GB ROM            12MP Rear Camera | 7MP Front Camera   \n",
       "36  128 GB ROM                12MP + 12MP | 12MP Front Camera   \n",
       "37  128 GB ROM                12MP + 12MP | 12MP Front Camera   \n",
       "38  256 GB ROM  48MP + 12MP + 12MP + 12MP | 12MP Front Camera   \n",
       "39  128 GB ROM                12MP + 12MP | 12MP Front Camera   \n",
       "\n",
       "                                           Processorr  Liquid_Retina_HD  \\\n",
       "30  A14 Bionic Chip with Next Generation Neural En...                 0   \n",
       "31                          A15 Bionic Chip Processor                 0   \n",
       "32         A15 Bionic Chip 6 Core Processor Processor                 0   \n",
       "33                          A13 Bionic Chip Processor                 1   \n",
       "34         A15 Bionic Chip 6 Core Processor Processor                 0   \n",
       "35  A13 Bionic Chip with 3rd Gen Neural Engine Pro...                 0   \n",
       "36                          A13 Bionic Chip Processor                 1   \n",
       "37  A14 Bionic Chip with Next Generation Neural En...                 0   \n",
       "38         A16 Bionic Chip 6 Core Processor Processor                 0   \n",
       "39                          A15 Bionic Chip Processor                 0   \n",
       "\n",
       "    Super_Retina_XDR  \n",
       "30                 1  \n",
       "31                 1  \n",
       "32                 1  \n",
       "33                 0  \n",
       "34                 1  \n",
       "35                 0  \n",
       "36                 0  \n",
       "37                 1  \n",
       "38                 1  \n",
       "39                 1  "
      ]
     },
     "execution_count": 44,
     "metadata": {},
     "output_type": "execute_result"
    }
   ],
   "source": [
    "final[30:40]"
   ]
  },
  {
   "cell_type": "code",
   "execution_count": 45,
   "id": "66ec63fd",
   "metadata": {},
   "outputs": [
    {
     "name": "stderr",
     "output_type": "stream",
     "text": [
      "C:\\Users\\rajesh\\AppData\\Local\\Temp\\ipykernel_18340\\3343722985.py:1: FutureWarning: The default value of regex will change from True to False in a future version. In addition, single character regular expressions will *not* be treated as literal strings when regex=True.\n",
      "  final['ProductName'] = final['ProductName'].str.replace(\"(\",'')\n"
     ]
    }
   ],
   "source": [
    "final['ProductName'] = final['ProductName'].str.replace(\"(\",'')"
   ]
  },
  {
   "cell_type": "code",
   "execution_count": 46,
   "id": "105b198b",
   "metadata": {},
   "outputs": [
    {
     "data": {
      "text/html": [
       "<div>\n",
       "<style scoped>\n",
       "    .dataframe tbody tr th:only-of-type {\n",
       "        vertical-align: middle;\n",
       "    }\n",
       "\n",
       "    .dataframe tbody tr th {\n",
       "        vertical-align: top;\n",
       "    }\n",
       "\n",
       "    .dataframe thead th {\n",
       "        text-align: right;\n",
       "    }\n",
       "</style>\n",
       "<table border=\"1\" class=\"dataframe\">\n",
       "  <thead>\n",
       "    <tr style=\"text-align: right;\">\n",
       "      <th></th>\n",
       "      <th>ProductName</th>\n",
       "      <th>Stars</th>\n",
       "      <th>Ratings</th>\n",
       "      <th>Reviews</th>\n",
       "      <th>Price</th>\n",
       "      <th>ROM</th>\n",
       "      <th>Camera</th>\n",
       "      <th>Processorr</th>\n",
       "      <th>Liquid_Retina_HD</th>\n",
       "      <th>Super_Retina_XDR</th>\n",
       "    </tr>\n",
       "  </thead>\n",
       "  <tbody>\n",
       "    <tr>\n",
       "      <th>30</th>\n",
       "      <td>APPLE iPhone 12 Green</td>\n",
       "      <td>4.6</td>\n",
       "      <td>181</td>\n",
       "      <td>662</td>\n",
       "      <td>64900</td>\n",
       "      <td>128 GB ROM</td>\n",
       "      <td>12MP + 12MP | 12MP Front Camera</td>\n",
       "      <td>A14 Bionic Chip with Next Generation Neural En...</td>\n",
       "      <td>0</td>\n",
       "      <td>1</td>\n",
       "    </tr>\n",
       "    <tr>\n",
       "      <th>31</th>\n",
       "      <td>APPLE iPhone 13 Mini Blue</td>\n",
       "      <td>4.5</td>\n",
       "      <td>2188</td>\n",
       "      <td>197</td>\n",
       "      <td>64900</td>\n",
       "      <td>128 GB ROM</td>\n",
       "      <td>12MP + 12MP | 12MP Front Camera</td>\n",
       "      <td>A15 Bionic Chip Processor</td>\n",
       "      <td>0</td>\n",
       "      <td>1</td>\n",
       "    </tr>\n",
       "    <tr>\n",
       "      <th>32</th>\n",
       "      <td>APPLE iPhone 14 Purple</td>\n",
       "      <td>5.0</td>\n",
       "      <td>3</td>\n",
       "      <td>0</td>\n",
       "      <td>89900</td>\n",
       "      <td>256 GB ROM</td>\n",
       "      <td>12MP + 12MP | 12MP Front Camera</td>\n",
       "      <td>A15 Bionic Chip 6 Core Processor Processor</td>\n",
       "      <td>0</td>\n",
       "      <td>1</td>\n",
       "    </tr>\n",
       "    <tr>\n",
       "      <th>33</th>\n",
       "      <td>Apple iPhone 11 Green</td>\n",
       "      <td>4.6</td>\n",
       "      <td>95955</td>\n",
       "      <td>7038</td>\n",
       "      <td>49900</td>\n",
       "      <td>64 GB ROM</td>\n",
       "      <td>12MP + 12MP | 12MP Front Camera</td>\n",
       "      <td>A13 Bionic Chip Processor</td>\n",
       "      <td>1</td>\n",
       "      <td>0</td>\n",
       "    </tr>\n",
       "    <tr>\n",
       "      <th>34</th>\n",
       "      <td>APPLE iPhone 14 PRODUCTRED</td>\n",
       "      <td>5.0</td>\n",
       "      <td>3</td>\n",
       "      <td>0</td>\n",
       "      <td>89900</td>\n",
       "      <td>256 GB ROM</td>\n",
       "      <td>12MP + 12MP | 12MP Front Camera</td>\n",
       "      <td>A15 Bionic Chip 6 Core Processor Processor</td>\n",
       "      <td>0</td>\n",
       "      <td>1</td>\n",
       "    </tr>\n",
       "    <tr>\n",
       "      <th>35</th>\n",
       "      <td>APPLE iPhone SE Black</td>\n",
       "      <td>4.5</td>\n",
       "      <td>152</td>\n",
       "      <td>589</td>\n",
       "      <td>35499</td>\n",
       "      <td>128 GB ROM</td>\n",
       "      <td>12MP Rear Camera | 7MP Front Camera</td>\n",
       "      <td>A13 Bionic Chip with 3rd Gen Neural Engine Pro...</td>\n",
       "      <td>0</td>\n",
       "      <td>0</td>\n",
       "    </tr>\n",
       "    <tr>\n",
       "      <th>36</th>\n",
       "      <td>APPLE iPhone 11 Yellow</td>\n",
       "      <td>4.6</td>\n",
       "      <td>95955</td>\n",
       "      <td>7038</td>\n",
       "      <td>48900</td>\n",
       "      <td>128 GB ROM</td>\n",
       "      <td>12MP + 12MP | 12MP Front Camera</td>\n",
       "      <td>A13 Bionic Chip Processor</td>\n",
       "      <td>1</td>\n",
       "      <td>0</td>\n",
       "    </tr>\n",
       "    <tr>\n",
       "      <th>37</th>\n",
       "      <td>APPLE iPhone 12 White</td>\n",
       "      <td>4.6</td>\n",
       "      <td>181</td>\n",
       "      <td>662</td>\n",
       "      <td>64900</td>\n",
       "      <td>128 GB ROM</td>\n",
       "      <td>12MP + 12MP | 12MP Front Camera</td>\n",
       "      <td>A14 Bionic Chip with Next Generation Neural En...</td>\n",
       "      <td>0</td>\n",
       "      <td>1</td>\n",
       "    </tr>\n",
       "    <tr>\n",
       "      <th>38</th>\n",
       "      <td>APPLE iPhone 14 Pro Max Space Black</td>\n",
       "      <td>0.0</td>\n",
       "      <td>0</td>\n",
       "      <td>0</td>\n",
       "      <td>149900</td>\n",
       "      <td>256 GB ROM</td>\n",
       "      <td>48MP + 12MP + 12MP + 12MP | 12MP Front Camera</td>\n",
       "      <td>A16 Bionic Chip 6 Core Processor Processor</td>\n",
       "      <td>0</td>\n",
       "      <td>1</td>\n",
       "    </tr>\n",
       "    <tr>\n",
       "      <th>39</th>\n",
       "      <td>APPLE iPhone 13 Mini PRODUCTRED</td>\n",
       "      <td>4.5</td>\n",
       "      <td>2188</td>\n",
       "      <td>197</td>\n",
       "      <td>64900</td>\n",
       "      <td>128 GB ROM</td>\n",
       "      <td>12MP + 12MP | 12MP Front Camera</td>\n",
       "      <td>A15 Bionic Chip Processor</td>\n",
       "      <td>0</td>\n",
       "      <td>1</td>\n",
       "    </tr>\n",
       "  </tbody>\n",
       "</table>\n",
       "</div>"
      ],
      "text/plain": [
       "                            ProductName  Stars  Ratings  Reviews   Price  \\\n",
       "30                APPLE iPhone 12 Green    4.6      181      662   64900   \n",
       "31            APPLE iPhone 13 Mini Blue    4.5     2188      197   64900   \n",
       "32               APPLE iPhone 14 Purple    5.0        3        0   89900   \n",
       "33                Apple iPhone 11 Green    4.6    95955     7038   49900   \n",
       "34           APPLE iPhone 14 PRODUCTRED    5.0        3        0   89900   \n",
       "35                APPLE iPhone SE Black    4.5      152      589   35499   \n",
       "36               APPLE iPhone 11 Yellow    4.6    95955     7038   48900   \n",
       "37                APPLE iPhone 12 White    4.6      181      662   64900   \n",
       "38  APPLE iPhone 14 Pro Max Space Black    0.0        0        0  149900   \n",
       "39      APPLE iPhone 13 Mini PRODUCTRED    4.5     2188      197   64900   \n",
       "\n",
       "           ROM                                         Camera  \\\n",
       "30  128 GB ROM                12MP + 12MP | 12MP Front Camera   \n",
       "31  128 GB ROM                12MP + 12MP | 12MP Front Camera   \n",
       "32  256 GB ROM                12MP + 12MP | 12MP Front Camera   \n",
       "33   64 GB ROM                12MP + 12MP | 12MP Front Camera   \n",
       "34  256 GB ROM                12MP + 12MP | 12MP Front Camera   \n",
       "35  128 GB ROM            12MP Rear Camera | 7MP Front Camera   \n",
       "36  128 GB ROM                12MP + 12MP | 12MP Front Camera   \n",
       "37  128 GB ROM                12MP + 12MP | 12MP Front Camera   \n",
       "38  256 GB ROM  48MP + 12MP + 12MP + 12MP | 12MP Front Camera   \n",
       "39  128 GB ROM                12MP + 12MP | 12MP Front Camera   \n",
       "\n",
       "                                           Processorr  Liquid_Retina_HD  \\\n",
       "30  A14 Bionic Chip with Next Generation Neural En...                 0   \n",
       "31                          A15 Bionic Chip Processor                 0   \n",
       "32         A15 Bionic Chip 6 Core Processor Processor                 0   \n",
       "33                          A13 Bionic Chip Processor                 1   \n",
       "34         A15 Bionic Chip 6 Core Processor Processor                 0   \n",
       "35  A13 Bionic Chip with 3rd Gen Neural Engine Pro...                 0   \n",
       "36                          A13 Bionic Chip Processor                 1   \n",
       "37  A14 Bionic Chip with Next Generation Neural En...                 0   \n",
       "38         A16 Bionic Chip 6 Core Processor Processor                 0   \n",
       "39                          A15 Bionic Chip Processor                 0   \n",
       "\n",
       "    Super_Retina_XDR  \n",
       "30                 1  \n",
       "31                 1  \n",
       "32                 1  \n",
       "33                 0  \n",
       "34                 1  \n",
       "35                 0  \n",
       "36                 0  \n",
       "37                 1  \n",
       "38                 1  \n",
       "39                 1  "
      ]
     },
     "execution_count": 46,
     "metadata": {},
     "output_type": "execute_result"
    }
   ],
   "source": [
    "final[30:40]"
   ]
  },
  {
   "cell_type": "markdown",
   "id": "2cc85649",
   "metadata": {},
   "source": [
    "# Rom"
   ]
  },
  {
   "cell_type": "code",
   "execution_count": 47,
   "id": "62fcefe6",
   "metadata": {},
   "outputs": [],
   "source": [
    "#removing gb in rom column"
   ]
  },
  {
   "cell_type": "code",
   "execution_count": 48,
   "id": "5cdb3acb",
   "metadata": {},
   "outputs": [],
   "source": [
    "final['ROM'] = final['ROM'].str.replace('GB ROM','')"
   ]
  },
  {
   "cell_type": "code",
   "execution_count": 49,
   "id": "5bbab407",
   "metadata": {},
   "outputs": [],
   "source": [
    "final['ROM'] = final['ROM'].astype('int32')"
   ]
  },
  {
   "cell_type": "code",
   "execution_count": 50,
   "id": "ce51461f",
   "metadata": {},
   "outputs": [
    {
     "data": {
      "text/html": [
       "<div>\n",
       "<style scoped>\n",
       "    .dataframe tbody tr th:only-of-type {\n",
       "        vertical-align: middle;\n",
       "    }\n",
       "\n",
       "    .dataframe tbody tr th {\n",
       "        vertical-align: top;\n",
       "    }\n",
       "\n",
       "    .dataframe thead th {\n",
       "        text-align: right;\n",
       "    }\n",
       "</style>\n",
       "<table border=\"1\" class=\"dataframe\">\n",
       "  <thead>\n",
       "    <tr style=\"text-align: right;\">\n",
       "      <th></th>\n",
       "      <th>ProductName</th>\n",
       "      <th>Stars</th>\n",
       "      <th>Ratings</th>\n",
       "      <th>Reviews</th>\n",
       "      <th>Price</th>\n",
       "      <th>ROM</th>\n",
       "      <th>Camera</th>\n",
       "      <th>Processorr</th>\n",
       "      <th>Liquid_Retina_HD</th>\n",
       "      <th>Super_Retina_XDR</th>\n",
       "    </tr>\n",
       "  </thead>\n",
       "  <tbody>\n",
       "    <tr>\n",
       "      <th>0</th>\n",
       "      <td>APPLE iPhone 11 White</td>\n",
       "      <td>4.6</td>\n",
       "      <td>95977</td>\n",
       "      <td>7038</td>\n",
       "      <td>43900</td>\n",
       "      <td>64</td>\n",
       "      <td>12MP + 12MP | 12MP Front Camera</td>\n",
       "      <td>A13 Bionic Chip Processor</td>\n",
       "      <td>1</td>\n",
       "      <td>0</td>\n",
       "    </tr>\n",
       "    <tr>\n",
       "      <th>1</th>\n",
       "      <td>APPLE iPhone 11 White</td>\n",
       "      <td>4.6</td>\n",
       "      <td>95977</td>\n",
       "      <td>7038</td>\n",
       "      <td>48900</td>\n",
       "      <td>128</td>\n",
       "      <td>12MP + 12MP | 12MP Front Camera</td>\n",
       "      <td>A13 Bionic Chip Processor</td>\n",
       "      <td>1</td>\n",
       "      <td>0</td>\n",
       "    </tr>\n",
       "  </tbody>\n",
       "</table>\n",
       "</div>"
      ],
      "text/plain": [
       "             ProductName  Stars  Ratings  Reviews  Price  ROM  \\\n",
       "0  APPLE iPhone 11 White    4.6    95977     7038  43900   64   \n",
       "1  APPLE iPhone 11 White    4.6    95977     7038  48900  128   \n",
       "\n",
       "                            Camera                 Processorr  \\\n",
       "0  12MP + 12MP | 12MP Front Camera  A13 Bionic Chip Processor   \n",
       "1  12MP + 12MP | 12MP Front Camera  A13 Bionic Chip Processor   \n",
       "\n",
       "   Liquid_Retina_HD  Super_Retina_XDR  \n",
       "0                 1                 0  \n",
       "1                 1                 0  "
      ]
     },
     "execution_count": 50,
     "metadata": {},
     "output_type": "execute_result"
    }
   ],
   "source": [
    "final.head(2)"
   ]
  },
  {
   "cell_type": "markdown",
   "id": "2e623372",
   "metadata": {},
   "source": [
    "# Camera"
   ]
  },
  {
   "cell_type": "code",
   "execution_count": 51,
   "id": "a1e9c78a",
   "metadata": {},
   "outputs": [
    {
     "name": "stderr",
     "output_type": "stream",
     "text": [
      "C:\\Users\\rajesh\\AppData\\Local\\Temp\\ipykernel_18340\\2628332049.py:1: FutureWarning: The default value of regex will change from True to False in a future version.\n",
      "  final['Camera'] = final['Camera'].str.replace('12MP + 12MP | 12MP Front Camera','12MP')\n",
      "C:\\Users\\rajesh\\AppData\\Local\\Temp\\ipykernel_18340\\2628332049.py:4: FutureWarning: The default value of regex will change from True to False in a future version. In addition, single character regular expressions will *not* be treated as literal strings when regex=True.\n",
      "  final['Camera'] = final['Camera'].str.replace('|','')\n"
     ]
    }
   ],
   "source": [
    "final['Camera'] = final['Camera'].str.replace('12MP + 12MP | 12MP Front Camera','12MP')\n",
    "final['Camera'] = final['Camera'].str.replace('Rear Camera','')\n",
    "final['Camera'] = final['Camera'].str.replace('Front Camera','')\n",
    "final['Camera'] = final['Camera'].str.replace('|','')"
   ]
  },
  {
   "cell_type": "code",
   "execution_count": 52,
   "id": "0f81cc92",
   "metadata": {},
   "outputs": [
    {
     "data": {
      "text/html": [
       "<div>\n",
       "<style scoped>\n",
       "    .dataframe tbody tr th:only-of-type {\n",
       "        vertical-align: middle;\n",
       "    }\n",
       "\n",
       "    .dataframe tbody tr th {\n",
       "        vertical-align: top;\n",
       "    }\n",
       "\n",
       "    .dataframe thead th {\n",
       "        text-align: right;\n",
       "    }\n",
       "</style>\n",
       "<table border=\"1\" class=\"dataframe\">\n",
       "  <thead>\n",
       "    <tr style=\"text-align: right;\">\n",
       "      <th></th>\n",
       "      <th>ProductName</th>\n",
       "      <th>Stars</th>\n",
       "      <th>Ratings</th>\n",
       "      <th>Reviews</th>\n",
       "      <th>Price</th>\n",
       "      <th>ROM</th>\n",
       "      <th>Camera</th>\n",
       "      <th>Processorr</th>\n",
       "      <th>Liquid_Retina_HD</th>\n",
       "      <th>Super_Retina_XDR</th>\n",
       "    </tr>\n",
       "  </thead>\n",
       "  <tbody>\n",
       "    <tr>\n",
       "      <th>0</th>\n",
       "      <td>APPLE iPhone 11 White</td>\n",
       "      <td>4.6</td>\n",
       "      <td>95977</td>\n",
       "      <td>7038</td>\n",
       "      <td>43900</td>\n",
       "      <td>64</td>\n",
       "      <td>12MP + 12MP 12MP</td>\n",
       "      <td>A13 Bionic Chip Processor</td>\n",
       "      <td>1</td>\n",
       "      <td>0</td>\n",
       "    </tr>\n",
       "    <tr>\n",
       "      <th>1</th>\n",
       "      <td>APPLE iPhone 11 White</td>\n",
       "      <td>4.6</td>\n",
       "      <td>95977</td>\n",
       "      <td>7038</td>\n",
       "      <td>48900</td>\n",
       "      <td>128</td>\n",
       "      <td>12MP + 12MP 12MP</td>\n",
       "      <td>A13 Bionic Chip Processor</td>\n",
       "      <td>1</td>\n",
       "      <td>0</td>\n",
       "    </tr>\n",
       "    <tr>\n",
       "      <th>2</th>\n",
       "      <td>APPLE iPhone 11 Black</td>\n",
       "      <td>4.6</td>\n",
       "      <td>95977</td>\n",
       "      <td>7038</td>\n",
       "      <td>48900</td>\n",
       "      <td>128</td>\n",
       "      <td>12MP + 12MP 12MP</td>\n",
       "      <td>A13 Bionic Chip Processor</td>\n",
       "      <td>1</td>\n",
       "      <td>0</td>\n",
       "    </tr>\n",
       "    <tr>\n",
       "      <th>3</th>\n",
       "      <td>APPLE iPhone 11 Green</td>\n",
       "      <td>4.6</td>\n",
       "      <td>95977</td>\n",
       "      <td>7038</td>\n",
       "      <td>48900</td>\n",
       "      <td>128</td>\n",
       "      <td>12MP + 12MP 12MP</td>\n",
       "      <td>A13 Bionic Chip Processor</td>\n",
       "      <td>1</td>\n",
       "      <td>0</td>\n",
       "    </tr>\n",
       "    <tr>\n",
       "      <th>4</th>\n",
       "      <td>APPLE iPhone 11 Black</td>\n",
       "      <td>4.6</td>\n",
       "      <td>95977</td>\n",
       "      <td>7038</td>\n",
       "      <td>43900</td>\n",
       "      <td>64</td>\n",
       "      <td>12MP + 12MP 12MP</td>\n",
       "      <td>A13 Bionic Chip Processor</td>\n",
       "      <td>1</td>\n",
       "      <td>0</td>\n",
       "    </tr>\n",
       "  </tbody>\n",
       "</table>\n",
       "</div>"
      ],
      "text/plain": [
       "             ProductName  Stars  Ratings  Reviews  Price  ROM  \\\n",
       "0  APPLE iPhone 11 White    4.6    95977     7038  43900   64   \n",
       "1  APPLE iPhone 11 White    4.6    95977     7038  48900  128   \n",
       "2  APPLE iPhone 11 Black    4.6    95977     7038  48900  128   \n",
       "3  APPLE iPhone 11 Green    4.6    95977     7038  48900  128   \n",
       "4  APPLE iPhone 11 Black    4.6    95977     7038  43900   64   \n",
       "\n",
       "             Camera                 Processorr  Liquid_Retina_HD  \\\n",
       "0  12MP + 12MP 12MP  A13 Bionic Chip Processor                 1   \n",
       "1  12MP + 12MP 12MP  A13 Bionic Chip Processor                 1   \n",
       "2  12MP + 12MP 12MP  A13 Bionic Chip Processor                 1   \n",
       "3  12MP + 12MP 12MP  A13 Bionic Chip Processor                 1   \n",
       "4  12MP + 12MP 12MP  A13 Bionic Chip Processor                 1   \n",
       "\n",
       "   Super_Retina_XDR  \n",
       "0                 0  \n",
       "1                 0  \n",
       "2                 0  \n",
       "3                 0  \n",
       "4                 0  "
      ]
     },
     "execution_count": 52,
     "metadata": {},
     "output_type": "execute_result"
    }
   ],
   "source": [
    "final.head()"
   ]
  },
  {
   "cell_type": "code",
   "execution_count": 53,
   "id": "28330c6a",
   "metadata": {},
   "outputs": [],
   "source": [
    "#removing Reviews colum\n",
    "df_final = final.drop('Reviews',axis=1)"
   ]
  },
  {
   "cell_type": "code",
   "execution_count": 54,
   "id": "196f2c8c",
   "metadata": {},
   "outputs": [
    {
     "data": {
      "text/html": [
       "<div>\n",
       "<style scoped>\n",
       "    .dataframe tbody tr th:only-of-type {\n",
       "        vertical-align: middle;\n",
       "    }\n",
       "\n",
       "    .dataframe tbody tr th {\n",
       "        vertical-align: top;\n",
       "    }\n",
       "\n",
       "    .dataframe thead th {\n",
       "        text-align: right;\n",
       "    }\n",
       "</style>\n",
       "<table border=\"1\" class=\"dataframe\">\n",
       "  <thead>\n",
       "    <tr style=\"text-align: right;\">\n",
       "      <th></th>\n",
       "      <th>ProductName</th>\n",
       "      <th>Stars</th>\n",
       "      <th>Ratings</th>\n",
       "      <th>Price</th>\n",
       "      <th>ROM</th>\n",
       "      <th>Camera</th>\n",
       "      <th>Processorr</th>\n",
       "      <th>Liquid_Retina_HD</th>\n",
       "      <th>Super_Retina_XDR</th>\n",
       "    </tr>\n",
       "  </thead>\n",
       "  <tbody>\n",
       "    <tr>\n",
       "      <th>0</th>\n",
       "      <td>APPLE iPhone 11 White</td>\n",
       "      <td>4.6</td>\n",
       "      <td>95977</td>\n",
       "      <td>43900</td>\n",
       "      <td>64</td>\n",
       "      <td>12MP + 12MP 12MP</td>\n",
       "      <td>A13 Bionic Chip Processor</td>\n",
       "      <td>1</td>\n",
       "      <td>0</td>\n",
       "    </tr>\n",
       "    <tr>\n",
       "      <th>1</th>\n",
       "      <td>APPLE iPhone 11 White</td>\n",
       "      <td>4.6</td>\n",
       "      <td>95977</td>\n",
       "      <td>48900</td>\n",
       "      <td>128</td>\n",
       "      <td>12MP + 12MP 12MP</td>\n",
       "      <td>A13 Bionic Chip Processor</td>\n",
       "      <td>1</td>\n",
       "      <td>0</td>\n",
       "    </tr>\n",
       "    <tr>\n",
       "      <th>2</th>\n",
       "      <td>APPLE iPhone 11 Black</td>\n",
       "      <td>4.6</td>\n",
       "      <td>95977</td>\n",
       "      <td>48900</td>\n",
       "      <td>128</td>\n",
       "      <td>12MP + 12MP 12MP</td>\n",
       "      <td>A13 Bionic Chip Processor</td>\n",
       "      <td>1</td>\n",
       "      <td>0</td>\n",
       "    </tr>\n",
       "    <tr>\n",
       "      <th>3</th>\n",
       "      <td>APPLE iPhone 11 Green</td>\n",
       "      <td>4.6</td>\n",
       "      <td>95977</td>\n",
       "      <td>48900</td>\n",
       "      <td>128</td>\n",
       "      <td>12MP + 12MP 12MP</td>\n",
       "      <td>A13 Bionic Chip Processor</td>\n",
       "      <td>1</td>\n",
       "      <td>0</td>\n",
       "    </tr>\n",
       "    <tr>\n",
       "      <th>4</th>\n",
       "      <td>APPLE iPhone 11 Black</td>\n",
       "      <td>4.6</td>\n",
       "      <td>95977</td>\n",
       "      <td>43900</td>\n",
       "      <td>64</td>\n",
       "      <td>12MP + 12MP 12MP</td>\n",
       "      <td>A13 Bionic Chip Processor</td>\n",
       "      <td>1</td>\n",
       "      <td>0</td>\n",
       "    </tr>\n",
       "  </tbody>\n",
       "</table>\n",
       "</div>"
      ],
      "text/plain": [
       "             ProductName  Stars  Ratings  Price  ROM            Camera  \\\n",
       "0  APPLE iPhone 11 White    4.6    95977  43900   64  12MP + 12MP 12MP   \n",
       "1  APPLE iPhone 11 White    4.6    95977  48900  128  12MP + 12MP 12MP   \n",
       "2  APPLE iPhone 11 Black    4.6    95977  48900  128  12MP + 12MP 12MP   \n",
       "3  APPLE iPhone 11 Green    4.6    95977  48900  128  12MP + 12MP 12MP   \n",
       "4  APPLE iPhone 11 Black    4.6    95977  43900   64  12MP + 12MP 12MP   \n",
       "\n",
       "                  Processorr  Liquid_Retina_HD  Super_Retina_XDR  \n",
       "0  A13 Bionic Chip Processor                 1                 0  \n",
       "1  A13 Bionic Chip Processor                 1                 0  \n",
       "2  A13 Bionic Chip Processor                 1                 0  \n",
       "3  A13 Bionic Chip Processor                 1                 0  \n",
       "4  A13 Bionic Chip Processor                 1                 0  "
      ]
     },
     "execution_count": 54,
     "metadata": {},
     "output_type": "execute_result"
    }
   ],
   "source": [
    "df_final.head()"
   ]
  },
  {
   "cell_type": "markdown",
   "id": "9b46e726",
   "metadata": {},
   "source": [
    "# Label Encoder"
   ]
  },
  {
   "cell_type": "code",
   "execution_count": 55,
   "id": "97283070",
   "metadata": {},
   "outputs": [],
   "source": [
    "from sklearn.preprocessing import LabelEncoder\n",
    "le = LabelEncoder()"
   ]
  },
  {
   "cell_type": "code",
   "execution_count": 56,
   "id": "f480603f",
   "metadata": {},
   "outputs": [
    {
     "data": {
      "text/html": [
       "<div>\n",
       "<style scoped>\n",
       "    .dataframe tbody tr th:only-of-type {\n",
       "        vertical-align: middle;\n",
       "    }\n",
       "\n",
       "    .dataframe tbody tr th {\n",
       "        vertical-align: top;\n",
       "    }\n",
       "\n",
       "    .dataframe thead th {\n",
       "        text-align: right;\n",
       "    }\n",
       "</style>\n",
       "<table border=\"1\" class=\"dataframe\">\n",
       "  <thead>\n",
       "    <tr style=\"text-align: right;\">\n",
       "      <th></th>\n",
       "      <th>ProductName</th>\n",
       "      <th>Stars</th>\n",
       "      <th>Ratings</th>\n",
       "      <th>Price</th>\n",
       "      <th>ROM</th>\n",
       "      <th>Camera</th>\n",
       "      <th>Processorr</th>\n",
       "      <th>Liquid_Retina_HD</th>\n",
       "      <th>Super_Retina_XDR</th>\n",
       "    </tr>\n",
       "  </thead>\n",
       "  <tbody>\n",
       "    <tr>\n",
       "      <th>0</th>\n",
       "      <td>4</td>\n",
       "      <td>4.6</td>\n",
       "      <td>95977</td>\n",
       "      <td>43900</td>\n",
       "      <td>64</td>\n",
       "      <td>1</td>\n",
       "      <td>0</td>\n",
       "      <td>1</td>\n",
       "      <td>0</td>\n",
       "    </tr>\n",
       "    <tr>\n",
       "      <th>1</th>\n",
       "      <td>4</td>\n",
       "      <td>4.6</td>\n",
       "      <td>95977</td>\n",
       "      <td>48900</td>\n",
       "      <td>128</td>\n",
       "      <td>1</td>\n",
       "      <td>0</td>\n",
       "      <td>1</td>\n",
       "      <td>0</td>\n",
       "    </tr>\n",
       "    <tr>\n",
       "      <th>2</th>\n",
       "      <td>0</td>\n",
       "      <td>4.6</td>\n",
       "      <td>95977</td>\n",
       "      <td>48900</td>\n",
       "      <td>128</td>\n",
       "      <td>1</td>\n",
       "      <td>0</td>\n",
       "      <td>1</td>\n",
       "      <td>0</td>\n",
       "    </tr>\n",
       "    <tr>\n",
       "      <th>3</th>\n",
       "      <td>1</td>\n",
       "      <td>4.6</td>\n",
       "      <td>95977</td>\n",
       "      <td>48900</td>\n",
       "      <td>128</td>\n",
       "      <td>1</td>\n",
       "      <td>0</td>\n",
       "      <td>1</td>\n",
       "      <td>0</td>\n",
       "    </tr>\n",
       "    <tr>\n",
       "      <th>4</th>\n",
       "      <td>0</td>\n",
       "      <td>4.6</td>\n",
       "      <td>95977</td>\n",
       "      <td>43900</td>\n",
       "      <td>64</td>\n",
       "      <td>1</td>\n",
       "      <td>0</td>\n",
       "      <td>1</td>\n",
       "      <td>0</td>\n",
       "    </tr>\n",
       "  </tbody>\n",
       "</table>\n",
       "</div>"
      ],
      "text/plain": [
       "   ProductName  Stars  Ratings  Price  ROM  Camera  Processorr  \\\n",
       "0            4    4.6    95977  43900   64       1           0   \n",
       "1            4    4.6    95977  48900  128       1           0   \n",
       "2            0    4.6    95977  48900  128       1           0   \n",
       "3            1    4.6    95977  48900  128       1           0   \n",
       "4            0    4.6    95977  43900   64       1           0   \n",
       "\n",
       "   Liquid_Retina_HD  Super_Retina_XDR  \n",
       "0                 1                 0  \n",
       "1                 1                 0  \n",
       "2                 1                 0  \n",
       "3                 1                 0  \n",
       "4                 1                 0  "
      ]
     },
     "execution_count": 56,
     "metadata": {},
     "output_type": "execute_result"
    }
   ],
   "source": [
    "list1=['ProductName','Camera','Processorr']\n",
    "for i in list1:\n",
    "    df_final[i]=le.fit_transform(df_final[i])\n",
    "    \n",
    "df_final.head()"
   ]
  },
  {
   "cell_type": "code",
   "execution_count": 57,
   "id": "5d5ded11",
   "metadata": {},
   "outputs": [],
   "source": [
    "#saving file to csv\n",
    "df_final.to_csv('Iphone_df.csv',index=False)"
   ]
  },
  {
   "cell_type": "code",
   "execution_count": 58,
   "id": "0ed885b1",
   "metadata": {},
   "outputs": [],
   "source": [
    "# saving file to csv and doing next process"
   ]
  }
 ],
 "metadata": {
  "kernelspec": {
   "display_name": "Python 3 (ipykernel)",
   "language": "python",
   "name": "python3"
  },
  "language_info": {
   "codemirror_mode": {
    "name": "ipython",
    "version": 3
   },
   "file_extension": ".py",
   "mimetype": "text/x-python",
   "name": "python",
   "nbconvert_exporter": "python",
   "pygments_lexer": "ipython3",
   "version": "3.9.12"
  }
 },
 "nbformat": 4,
 "nbformat_minor": 5
}
